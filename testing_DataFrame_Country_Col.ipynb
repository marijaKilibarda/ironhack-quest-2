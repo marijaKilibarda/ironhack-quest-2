{
 "cells": [
  {
   "cell_type": "code",
   "execution_count": 93,
   "id": "1f0f9610-4854-4607-b543-972938534382",
   "metadata": {},
   "outputs": [
    {
     "data": {
      "text/html": [
       "<div>\n",
       "<style scoped>\n",
       "    .dataframe tbody tr th:only-of-type {\n",
       "        vertical-align: middle;\n",
       "    }\n",
       "\n",
       "    .dataframe tbody tr th {\n",
       "        vertical-align: top;\n",
       "    }\n",
       "\n",
       "    .dataframe thead th {\n",
       "        text-align: right;\n",
       "    }\n",
       "</style>\n",
       "<table border=\"1\" class=\"dataframe\">\n",
       "  <thead>\n",
       "    <tr style=\"text-align: right;\">\n",
       "      <th></th>\n",
       "      <th>Date</th>\n",
       "      <th>Year</th>\n",
       "      <th>Type</th>\n",
       "      <th>Country</th>\n",
       "      <th>State</th>\n",
       "      <th>Location</th>\n",
       "      <th>Activity</th>\n",
       "      <th>Name</th>\n",
       "      <th>Sex</th>\n",
       "      <th>Age</th>\n",
       "      <th>...</th>\n",
       "      <th>Source</th>\n",
       "      <th>pdf</th>\n",
       "      <th>href formula</th>\n",
       "      <th>href</th>\n",
       "      <th>Case Number</th>\n",
       "      <th>Case Number.1</th>\n",
       "      <th>original order</th>\n",
       "      <th>Unnamed: 21</th>\n",
       "      <th>Unnamed: 22</th>\n",
       "      <th>id</th>\n",
       "    </tr>\n",
       "  </thead>\n",
       "  <tbody>\n",
       "    <tr>\n",
       "      <th>0</th>\n",
       "      <td>2024-09-16 00:00:00</td>\n",
       "      <td>2024.0</td>\n",
       "      <td>Unprovoked</td>\n",
       "      <td>Morocco</td>\n",
       "      <td>Southern Morocco</td>\n",
       "      <td>West of Dakhla</td>\n",
       "      <td>Swimming - jumped off yacht</td>\n",
       "      <td>German Tourist</td>\n",
       "      <td>F</td>\n",
       "      <td>30</td>\n",
       "      <td>...</td>\n",
       "      <td>Andy Currie: Moroccan World News: Sky News</td>\n",
       "      <td>NaN</td>\n",
       "      <td>NaN</td>\n",
       "      <td>NaN</td>\n",
       "      <td>NaN</td>\n",
       "      <td>NaN</td>\n",
       "      <td>NaN</td>\n",
       "      <td>NaN</td>\n",
       "      <td>NaN</td>\n",
       "      <td>0</td>\n",
       "    </tr>\n",
       "    <tr>\n",
       "      <th>1</th>\n",
       "      <td>2024-08-26 00:00:00</td>\n",
       "      <td>2024.0</td>\n",
       "      <td>Unprovoked</td>\n",
       "      <td>Jamaica</td>\n",
       "      <td>Montego Bay</td>\n",
       "      <td>Falmouth</td>\n",
       "      <td>Spearfishing</td>\n",
       "      <td>Jahmari Reid</td>\n",
       "      <td>M</td>\n",
       "      <td>16</td>\n",
       "      <td>...</td>\n",
       "      <td>Todd Smith: Daily Mail UK: Sky News: People .com</td>\n",
       "      <td>NaN</td>\n",
       "      <td>NaN</td>\n",
       "      <td>NaN</td>\n",
       "      <td>NaN</td>\n",
       "      <td>NaN</td>\n",
       "      <td>NaN</td>\n",
       "      <td>NaN</td>\n",
       "      <td>NaN</td>\n",
       "      <td>1</td>\n",
       "    </tr>\n",
       "    <tr>\n",
       "      <th>2</th>\n",
       "      <td>2024-08-06 00:00:00</td>\n",
       "      <td>2024.0</td>\n",
       "      <td>Unprovoked</td>\n",
       "      <td>Belize</td>\n",
       "      <td>Gulf of Honduras</td>\n",
       "      <td>Central America</td>\n",
       "      <td>Swimming - Diving</td>\n",
       "      <td>Annabelle Carlson</td>\n",
       "      <td>F</td>\n",
       "      <td>15</td>\n",
       "      <td>...</td>\n",
       "      <td>Kevin McMurray Tracking Sharks.com New York Po...</td>\n",
       "      <td>NaN</td>\n",
       "      <td>NaN</td>\n",
       "      <td>NaN</td>\n",
       "      <td>NaN</td>\n",
       "      <td>NaN</td>\n",
       "      <td>NaN</td>\n",
       "      <td>NaN</td>\n",
       "      <td>NaN</td>\n",
       "      <td>2</td>\n",
       "    </tr>\n",
       "    <tr>\n",
       "      <th>3</th>\n",
       "      <td>2024-07-23 00:00:00</td>\n",
       "      <td>2024.0</td>\n",
       "      <td>Unprovoked</td>\n",
       "      <td>Australia</td>\n",
       "      <td>NSW</td>\n",
       "      <td>North Shore Beach, Port Macquarie</td>\n",
       "      <td>Surfing</td>\n",
       "      <td>Kai McKenzie</td>\n",
       "      <td>M</td>\n",
       "      <td>23</td>\n",
       "      <td>...</td>\n",
       "      <td>Nine.com.au: ABC.Net.Au Johannes Marchand</td>\n",
       "      <td>NaN</td>\n",
       "      <td>NaN</td>\n",
       "      <td>NaN</td>\n",
       "      <td>NaN</td>\n",
       "      <td>NaN</td>\n",
       "      <td>NaN</td>\n",
       "      <td>NaN</td>\n",
       "      <td>NaN</td>\n",
       "      <td>3</td>\n",
       "    </tr>\n",
       "    <tr>\n",
       "      <th>4</th>\n",
       "      <td>2024-07-18 00:00:00</td>\n",
       "      <td>2024.0</td>\n",
       "      <td>Unprovoked</td>\n",
       "      <td>Australia</td>\n",
       "      <td>Western Australia</td>\n",
       "      <td>Trigg beach Sterling</td>\n",
       "      <td>Surfing</td>\n",
       "      <td>Ryan Lowther</td>\n",
       "      <td>M</td>\n",
       "      <td>41</td>\n",
       "      <td>...</td>\n",
       "      <td>Daily Mail: Sky News: The West Australian</td>\n",
       "      <td>NaN</td>\n",
       "      <td>NaN</td>\n",
       "      <td>NaN</td>\n",
       "      <td>NaN</td>\n",
       "      <td>NaN</td>\n",
       "      <td>NaN</td>\n",
       "      <td>NaN</td>\n",
       "      <td>NaN</td>\n",
       "      <td>4</td>\n",
       "    </tr>\n",
       "    <tr>\n",
       "      <th>...</th>\n",
       "      <td>...</td>\n",
       "      <td>...</td>\n",
       "      <td>...</td>\n",
       "      <td>...</td>\n",
       "      <td>...</td>\n",
       "      <td>...</td>\n",
       "      <td>...</td>\n",
       "      <td>...</td>\n",
       "      <td>...</td>\n",
       "      <td>...</td>\n",
       "      <td>...</td>\n",
       "      <td>...</td>\n",
       "      <td>...</td>\n",
       "      <td>...</td>\n",
       "      <td>...</td>\n",
       "      <td>...</td>\n",
       "      <td>...</td>\n",
       "      <td>...</td>\n",
       "      <td>...</td>\n",
       "      <td>...</td>\n",
       "      <td>...</td>\n",
       "    </tr>\n",
       "    <tr>\n",
       "      <th>6965</th>\n",
       "      <td>Before 1903</td>\n",
       "      <td>0.0</td>\n",
       "      <td>Unprovoked</td>\n",
       "      <td>AUSTRALIA</td>\n",
       "      <td>Western Australia</td>\n",
       "      <td>Roebuck Bay</td>\n",
       "      <td>Diving</td>\n",
       "      <td>male</td>\n",
       "      <td>M</td>\n",
       "      <td>NaN</td>\n",
       "      <td>...</td>\n",
       "      <td>H. Taunton; N. Bartlett,  p. 234</td>\n",
       "      <td>ND-0005-RoebuckBay.pdf</td>\n",
       "      <td>http://sharkattackfile.net/spreadsheets/pdf_di...</td>\n",
       "      <td>http://sharkattackfile.net/spreadsheets/pdf_di...</td>\n",
       "      <td>ND.0005</td>\n",
       "      <td>ND.0005</td>\n",
       "      <td>6.0</td>\n",
       "      <td>NaN</td>\n",
       "      <td>NaN</td>\n",
       "      <td>6965</td>\n",
       "    </tr>\n",
       "    <tr>\n",
       "      <th>6966</th>\n",
       "      <td>Before 1903</td>\n",
       "      <td>0.0</td>\n",
       "      <td>Unprovoked</td>\n",
       "      <td>AUSTRALIA</td>\n",
       "      <td>Western Australia</td>\n",
       "      <td>NaN</td>\n",
       "      <td>Pearl diving</td>\n",
       "      <td>Ahmun</td>\n",
       "      <td>M</td>\n",
       "      <td>NaN</td>\n",
       "      <td>...</td>\n",
       "      <td>H. Taunton; N. Bartlett,  pp. 233-234</td>\n",
       "      <td>ND-0004-Ahmun.pdf</td>\n",
       "      <td>http://sharkattackfile.net/spreadsheets/pdf_di...</td>\n",
       "      <td>http://sharkattackfile.net/spreadsheets/pdf_di...</td>\n",
       "      <td>ND.0004</td>\n",
       "      <td>ND.0004</td>\n",
       "      <td>5.0</td>\n",
       "      <td>NaN</td>\n",
       "      <td>NaN</td>\n",
       "      <td>6966</td>\n",
       "    </tr>\n",
       "    <tr>\n",
       "      <th>6967</th>\n",
       "      <td>1900-1905</td>\n",
       "      <td>0.0</td>\n",
       "      <td>Unprovoked</td>\n",
       "      <td>USA</td>\n",
       "      <td>North Carolina</td>\n",
       "      <td>Ocracoke Inlet</td>\n",
       "      <td>Swimming</td>\n",
       "      <td>Coast Guard personnel</td>\n",
       "      <td>M</td>\n",
       "      <td>NaN</td>\n",
       "      <td>...</td>\n",
       "      <td>F. Schwartz, p.23; C. Creswell, GSAF</td>\n",
       "      <td>ND-0003-Ocracoke_1900-1905.pdf</td>\n",
       "      <td>http://sharkattackfile.net/spreadsheets/pdf_di...</td>\n",
       "      <td>http://sharkattackfile.net/spreadsheets/pdf_di...</td>\n",
       "      <td>ND.0003</td>\n",
       "      <td>ND.0003</td>\n",
       "      <td>4.0</td>\n",
       "      <td>NaN</td>\n",
       "      <td>NaN</td>\n",
       "      <td>6967</td>\n",
       "    </tr>\n",
       "    <tr>\n",
       "      <th>6968</th>\n",
       "      <td>1883-1889</td>\n",
       "      <td>0.0</td>\n",
       "      <td>Unprovoked</td>\n",
       "      <td>PANAMA</td>\n",
       "      <td>NaN</td>\n",
       "      <td>Panama Bay 8ºN, 79ºW</td>\n",
       "      <td>NaN</td>\n",
       "      <td>Jules Patterson</td>\n",
       "      <td>M</td>\n",
       "      <td>NaN</td>\n",
       "      <td>...</td>\n",
       "      <td>The Sun, 10/20/1938</td>\n",
       "      <td>ND-0002-JulesPatterson.pdf</td>\n",
       "      <td>http://sharkattackfile.net/spreadsheets/pdf_di...</td>\n",
       "      <td>http://sharkattackfile.net/spreadsheets/pdf_di...</td>\n",
       "      <td>ND.0002</td>\n",
       "      <td>ND.0002</td>\n",
       "      <td>3.0</td>\n",
       "      <td>NaN</td>\n",
       "      <td>NaN</td>\n",
       "      <td>6968</td>\n",
       "    </tr>\n",
       "    <tr>\n",
       "      <th>6969</th>\n",
       "      <td>1845-1853</td>\n",
       "      <td>0.0</td>\n",
       "      <td>Unprovoked</td>\n",
       "      <td>CEYLON (SRI LANKA)</td>\n",
       "      <td>Eastern Province</td>\n",
       "      <td>Below the English fort, Trincomalee</td>\n",
       "      <td>Swimming</td>\n",
       "      <td>male</td>\n",
       "      <td>M</td>\n",
       "      <td>15</td>\n",
       "      <td>...</td>\n",
       "      <td>S.W. Baker</td>\n",
       "      <td>ND-0001-Ceylon.pdf</td>\n",
       "      <td>http://sharkattackfile.net/spreadsheets/pdf_di...</td>\n",
       "      <td>http://sharkattackfile.net/spreadsheets/pdf_di...</td>\n",
       "      <td>ND.0001</td>\n",
       "      <td>ND.0001</td>\n",
       "      <td>2.0</td>\n",
       "      <td>NaN</td>\n",
       "      <td>NaN</td>\n",
       "      <td>6969</td>\n",
       "    </tr>\n",
       "  </tbody>\n",
       "</table>\n",
       "<p>6970 rows × 24 columns</p>\n",
       "</div>"
      ],
      "text/plain": [
       "                     Date    Year        Type             Country  \\\n",
       "0     2024-09-16 00:00:00  2024.0  Unprovoked             Morocco   \n",
       "1     2024-08-26 00:00:00  2024.0  Unprovoked             Jamaica   \n",
       "2     2024-08-06 00:00:00  2024.0  Unprovoked              Belize   \n",
       "3     2024-07-23 00:00:00  2024.0  Unprovoked           Australia   \n",
       "4     2024-07-18 00:00:00  2024.0  Unprovoked           Australia   \n",
       "...                   ...     ...         ...                 ...   \n",
       "6965          Before 1903     0.0  Unprovoked           AUSTRALIA   \n",
       "6966          Before 1903     0.0  Unprovoked           AUSTRALIA   \n",
       "6967            1900-1905     0.0  Unprovoked                 USA   \n",
       "6968            1883-1889     0.0  Unprovoked              PANAMA   \n",
       "6969            1845-1853     0.0  Unprovoked  CEYLON (SRI LANKA)   \n",
       "\n",
       "                  State                             Location  \\\n",
       "0      Southern Morocco                       West of Dakhla   \n",
       "1           Montego Bay                             Falmouth   \n",
       "2      Gulf of Honduras                      Central America   \n",
       "3                   NSW    North Shore Beach, Port Macquarie   \n",
       "4     Western Australia                 Trigg beach Sterling   \n",
       "...                 ...                                  ...   \n",
       "6965  Western Australia                          Roebuck Bay   \n",
       "6966  Western Australia                                  NaN   \n",
       "6967     North Carolina                       Ocracoke Inlet   \n",
       "6968                NaN                 Panama Bay 8ºN, 79ºW   \n",
       "6969   Eastern Province  Below the English fort, Trincomalee   \n",
       "\n",
       "                         Activity                   Name Sex  Age  ...  \\\n",
       "0     Swimming - jumped off yacht         German Tourist   F   30  ...   \n",
       "1                    Spearfishing           Jahmari Reid   M   16  ...   \n",
       "2              Swimming - Diving       Annabelle Carlson   F   15  ...   \n",
       "3                         Surfing           Kai McKenzie   M   23  ...   \n",
       "4                         Surfing           Ryan Lowther   M   41  ...   \n",
       "...                           ...                    ...  ..  ...  ...   \n",
       "6965                       Diving                   male   M  NaN  ...   \n",
       "6966                 Pearl diving                  Ahmun   M  NaN  ...   \n",
       "6967                     Swimming  Coast Guard personnel   M  NaN  ...   \n",
       "6968                          NaN        Jules Patterson   M  NaN  ...   \n",
       "6969                     Swimming                   male   M   15  ...   \n",
       "\n",
       "                                                 Source  \\\n",
       "0            Andy Currie: Moroccan World News: Sky News   \n",
       "1      Todd Smith: Daily Mail UK: Sky News: People .com   \n",
       "2     Kevin McMurray Tracking Sharks.com New York Po...   \n",
       "3             Nine.com.au: ABC.Net.Au Johannes Marchand   \n",
       "4             Daily Mail: Sky News: The West Australian   \n",
       "...                                                 ...   \n",
       "6965                   H. Taunton; N. Bartlett,  p. 234   \n",
       "6966              H. Taunton; N. Bartlett,  pp. 233-234   \n",
       "6967               F. Schwartz, p.23; C. Creswell, GSAF   \n",
       "6968                                The Sun, 10/20/1938   \n",
       "6969                                         S.W. Baker   \n",
       "\n",
       "                                 pdf  \\\n",
       "0                                NaN   \n",
       "1                                NaN   \n",
       "2                                NaN   \n",
       "3                                NaN   \n",
       "4                                NaN   \n",
       "...                              ...   \n",
       "6965          ND-0005-RoebuckBay.pdf   \n",
       "6966               ND-0004-Ahmun.pdf   \n",
       "6967  ND-0003-Ocracoke_1900-1905.pdf   \n",
       "6968      ND-0002-JulesPatterson.pdf   \n",
       "6969              ND-0001-Ceylon.pdf   \n",
       "\n",
       "                                           href formula  \\\n",
       "0                                                   NaN   \n",
       "1                                                   NaN   \n",
       "2                                                   NaN   \n",
       "3                                                   NaN   \n",
       "4                                                   NaN   \n",
       "...                                                 ...   \n",
       "6965  http://sharkattackfile.net/spreadsheets/pdf_di...   \n",
       "6966  http://sharkattackfile.net/spreadsheets/pdf_di...   \n",
       "6967  http://sharkattackfile.net/spreadsheets/pdf_di...   \n",
       "6968  http://sharkattackfile.net/spreadsheets/pdf_di...   \n",
       "6969  http://sharkattackfile.net/spreadsheets/pdf_di...   \n",
       "\n",
       "                                                   href Case Number  \\\n",
       "0                                                   NaN         NaN   \n",
       "1                                                   NaN         NaN   \n",
       "2                                                   NaN         NaN   \n",
       "3                                                   NaN         NaN   \n",
       "4                                                   NaN         NaN   \n",
       "...                                                 ...         ...   \n",
       "6965  http://sharkattackfile.net/spreadsheets/pdf_di...     ND.0005   \n",
       "6966  http://sharkattackfile.net/spreadsheets/pdf_di...     ND.0004   \n",
       "6967  http://sharkattackfile.net/spreadsheets/pdf_di...     ND.0003   \n",
       "6968  http://sharkattackfile.net/spreadsheets/pdf_di...     ND.0002   \n",
       "6969  http://sharkattackfile.net/spreadsheets/pdf_di...     ND.0001   \n",
       "\n",
       "     Case Number.1 original order Unnamed: 21 Unnamed: 22    id  \n",
       "0              NaN            NaN         NaN         NaN     0  \n",
       "1              NaN            NaN         NaN         NaN     1  \n",
       "2              NaN            NaN         NaN         NaN     2  \n",
       "3              NaN            NaN         NaN         NaN     3  \n",
       "4              NaN            NaN         NaN         NaN     4  \n",
       "...            ...            ...         ...         ...   ...  \n",
       "6965       ND.0005            6.0         NaN         NaN  6965  \n",
       "6966       ND.0004            5.0         NaN         NaN  6966  \n",
       "6967       ND.0003            4.0         NaN         NaN  6967  \n",
       "6968       ND.0002            3.0         NaN         NaN  6968  \n",
       "6969       ND.0001            2.0         NaN         NaN  6969  \n",
       "\n",
       "[6970 rows x 24 columns]"
      ]
     },
     "execution_count": 93,
     "metadata": {},
     "output_type": "execute_result"
    }
   ],
   "source": [
    "import pandas as pd\n",
    "import numpy as np\n",
    "import re\n",
    "\n",
    "\n",
    "# load dataset\n",
    "df_country = pd.read_excel(\"GSAF5.xls\")\n",
    "\n",
    "df_country [\"id\"] = range(0,len(df_country))\n",
    "df_country"
   ]
  },
  {
   "cell_type": "code",
   "execution_count": 94,
   "id": "faaaf260-cb7c-4e81-84c6-17dde3ca0735",
   "metadata": {},
   "outputs": [],
   "source": [
    "df_country['Country_Comment']= 'Check'\n",
    "df_country['Country']= df_country['Country'].str.strip()\n",
    "countryregex = r'^[A-Z\\s]+$'\n",
    "countryregex2 = r'^(?:[A-Z][a-z]+(?:\\s+[A-Z][a-z]+)*)?$|^(?:[A-Z][a-z]*\\s*)+$'\n",
    "countryregex3 = r'^[A-Z\\s]+ \\/ [A-Z\\s]+$'\n",
    "countryregex4 = r'^[A-Z]+(?:\\s[A-Z]+)*$'\n",
    "countryregex5 = r'^[A-Z\\s&]+$'\n",
    "\n",
    "df_country.loc[\n",
    "    df_country['Country'].str.match(countryregex)==True,\n",
    "    'Country_Comment'\n",
    "    ]= \"Country_ok\"\n",
    "\n",
    "pattern2 = r'^(?:[A-Z][a-z]+(?:\\s+[A-Z][a-z]+)*)?$|^(?:[A-Z][a-z]*\\s*)+$'\n",
    "\n",
    "df_country.loc[\n",
    "    (df_country['Country_Comment']=='Check') &\n",
    "    (df_country['Country'].str.match(countryregex2)==True),\n",
    "    'Country_Comment'\n",
    "    ] = 'Countries haveing First/Second word Capital Letter and rest smalls letters'\n",
    "\n",
    "\n",
    "df_country.loc[\n",
    "    (df_country ['Country_Comment']=='Check') &\n",
    "    (df_country ['Country'].str.match(countryregex3)==True),\n",
    "    'Country_Comment'\n",
    "    ] = 'Countries split by / but with capital letters'\n",
    "\n",
    "df_country.loc[\n",
    "    (df_country['Country_Comment']=='Check') &\n",
    "    (df_country['Country'].str.match(countryregex4)==True),\n",
    "    'Country_Comment'\n",
    "    ] = \"Country in capitals containing ?\"\n",
    "\n",
    "df_country.loc[\n",
    "    (df_country['Country_Comment']=='Check') &\n",
    "    (df_country['Country'].str.match(countryregex5)==True),\n",
    "    'Country_Comment'\n",
    "    ] = \"Country in capitals separated by &\"\n",
    "\n",
    "pd.pivot_table(df_country, index = 'Country_Comment',values = 'Country',aggfunc='count')\n",
    "\n",
    "df_country.loc[\n",
    "    ((df_country['Country_Comment']!='Country_ok') & \n",
    "    (df_country['Country_Comment']=='Country in capitals separated by &')),\n",
    "    [\"Country\"]\n",
    "              ] =  df_country.loc[\n",
    "                  ((df_country['Country_Comment'] != 'Country_ok') & \n",
    "                   (df_country['Country_Comment'] == 'Country in capitals separated by &')),\n",
    "                   ['Country']\n",
    "                   ].replace(\"&\", \"AND\", regex=True)\n",
    "\n",
    "df_country.loc[\n",
    "    ((df_country['Country_Comment']!='Country_ok') & \n",
    "    (df_country['Country_Comment']=='Countries split by / but with capital letters')),\n",
    "    [\"Country\",\"Location\",\"State\"]\n",
    "             ]\n",
    "##CLEANING SPECIAL CHARACTERS\n",
    "\n",
    "df_country.loc[\n",
    "    ((df_country['Country_Comment']!='Country_ok') & \n",
    "    (df_country['Country_Comment']=='Countries split by / but with capital letters') &\n",
    "    (df_country['State']==\"South Sinai, Gulf of Aqaba\")),\n",
    "    [\"Country\"]] = \"EGYPT\"\n",
    "df_country.loc[\n",
    "    ((df_country['Country_Comment']!='Country_ok') & \n",
    "    (df_country['Country_Comment']=='Countries split by / but with capital letters') &\n",
    "    (df_country['State']==\"Enroute from Suez to Aden (Yemen)\")),\n",
    "    [\"Country\"]] = \"RED SEA\"\n",
    "df_country.loc[\n",
    "    ((df_country['Country_Comment']!='Country_ok') & \n",
    "    (df_country['Country_Comment']=='Countries split by / but with capital letters') &\n",
    "    (df_country['State']== \"Shatt-al-Arab River\")),\n",
    "    [\"Country\"]] = \"IRAQ\"\n",
    "df_country.loc[\n",
    "    ((df_country['Country_Comment']!='Country_ok') & \n",
    "    (df_country['Country_Comment']=='Countries split by / but with capital letters') &\n",
    "    (df_country['Country']== \"SOLOMON ISLANDS / VANUATU\")),\n",
    "    [\"Country\"]] = \"SOLOMON ISLANDS\"\n",
    "\n",
    "df_country.loc[\n",
    "    ((df_country['Country_Comment']!='Country_ok') & \n",
    "    (df_country['Country_Comment']=='Countries split by / but with capital letters') &\n",
    "    (df_country['Location']== \"Kralievica\")),\n",
    "    [\"Country\"]] = \"CROATIA\"\n",
    "\n",
    "df_country.loc[\n",
    "    ((df_country['Country_Comment']!='Country_ok') & \n",
    "    (df_country['Country_Comment']=='Countries split by / but with capital letters') &\n",
    "    (df_country['State']==\"Fernando Po Island\")),\n",
    "    [\"Country\"]] = \"EQUATORIAL GUINEA\"\n",
    "\n",
    "#CLENAING SMALL LETTERS TO CAPITALS\n",
    "df_country.loc[\n",
    "    ((df_country['Country_Comment']!='Country_ok') & \n",
    "    (df_country['Country_Comment']=='Countries haveing First/Second word Capital Letter and rest smalls letters')),\n",
    "    \"Country\"\n",
    "    ] =  df_country.loc[\n",
    "        ((df_country['Country_Comment']!='Country_ok') & \n",
    "         (df_country['Country_Comment']=='Countries haveing First/Second word Capital Letter and rest smalls letters')),\n",
    "         \"Country\"\n",
    "         ].str.upper() \n",
    "\n",
    "### 2nd Regex filternig \n",
    "df_country['Country_Comment']= 'Check'\n",
    "df_country['Country']= df_country['Country'].str.strip()\n",
    "countryregex = r'^[A-Z\\s]+$'\n",
    "countryregex2 = r'^(?:[A-Z][a-z]+(?:\\s+[A-Z][a-z]+)*)?$|^(?:[A-Z][a-z]*\\s*)+$'\n",
    "countryregex3 = r'^[A-Z\\s]+ \\/ [A-Z\\s]+$'\n",
    "countryregex4 = r'^[A-Z]+(?:\\s[A-Z]+)*$'\n",
    "countryregex5 = r'^[A-Z\\s&]+$'\n",
    "\n",
    "df_country.loc[\n",
    "    df_country['Country'].str.match(countryregex)==True,\n",
    "    'Country_Comment'\n",
    "    ]= \"Country_ok\"\n",
    "\n",
    "pattern2 = r'^(?:[A-Z][a-z]+(?:\\s+[A-Z][a-z]+)*)?$|^(?:[A-Z][a-z]*\\s*)+$'\n",
    "\n",
    "df_country.loc[\n",
    "    (df_country['Country_Comment']=='Check') &\n",
    "    (df_country['Country'].str.match(countryregex2)==True),\n",
    "    'Country_Comment'\n",
    "    ] = 'Countries haveing First/Second word Capital Letter and rest smalls letters'\n",
    "\n",
    "\n",
    "df_country.loc[\n",
    "    (df_country ['Country_Comment']=='Check') &\n",
    "    (df_country ['Country'].str.match(countryregex3)==True),\n",
    "    'Country_Comment'\n",
    "    ] = 'Countries split by / but with capital letters'\n",
    "\n",
    "df_country.loc[\n",
    "    (df_country['Country_Comment']=='Check') &\n",
    "    (df_country['Country'].str.match(countryregex4)==True),\n",
    "    'Country_Comment'\n",
    "    ] = \"Country in capitals containing ?\"\n",
    "\n",
    "df_country.loc[\n",
    "    (df_country['Country_Comment']=='Check') &\n",
    "    (df_country['Country'].str.match(countryregex5)==True),\n",
    "    'Country_Comment'\n",
    "    ] = \"Country in capitals separated by &\"\n",
    "\n",
    "\n",
    "#filtering all countries that are OK >>> **Testing** DataFrame *** NaN(s) needs to be fixed\n",
    "df_country = df_country.loc[\n",
    "    (df_country['Country_Comment'] =='Country_ok') \n",
    "     ] "
   ]
  },
  {
   "cell_type": "code",
   "execution_count": 95,
   "id": "b5f1625f",
   "metadata": {},
   "outputs": [
    {
     "name": "stderr",
     "output_type": "stream",
     "text": [
      "C:\\Users\\xavie\\AppData\\Local\\Temp\\ipykernel_4428\\737727424.py:1: SettingWithCopyWarning:\n",
      "\n",
      "\n",
      "A value is trying to be set on a copy of a slice from a DataFrame.\n",
      "Try using .loc[row_indexer,col_indexer] = value instead\n",
      "\n",
      "See the caveats in the documentation: https://pandas.pydata.org/pandas-docs/stable/user_guide/indexing.html#returning-a-view-versus-a-copy\n",
      "\n"
     ]
    },
    {
     "data": {
      "text/html": [
       "<div>\n",
       "<style scoped>\n",
       "    .dataframe tbody tr th:only-of-type {\n",
       "        vertical-align: middle;\n",
       "    }\n",
       "\n",
       "    .dataframe tbody tr th {\n",
       "        vertical-align: top;\n",
       "    }\n",
       "\n",
       "    .dataframe thead th {\n",
       "        text-align: right;\n",
       "    }\n",
       "</style>\n",
       "<table border=\"1\" class=\"dataframe\">\n",
       "  <thead>\n",
       "    <tr style=\"text-align: right;\">\n",
       "      <th></th>\n",
       "      <th>Date</th>\n",
       "      <th>Year</th>\n",
       "      <th>Type</th>\n",
       "      <th>Country</th>\n",
       "      <th>State</th>\n",
       "      <th>Location</th>\n",
       "      <th>Activity</th>\n",
       "      <th>Name</th>\n",
       "      <th>Sex</th>\n",
       "      <th>Age</th>\n",
       "      <th>...</th>\n",
       "      <th>pdf</th>\n",
       "      <th>href formula</th>\n",
       "      <th>href</th>\n",
       "      <th>Case Number</th>\n",
       "      <th>Case Number.1</th>\n",
       "      <th>original order</th>\n",
       "      <th>Unnamed: 21</th>\n",
       "      <th>Unnamed: 22</th>\n",
       "      <th>id</th>\n",
       "      <th>Country_Comment</th>\n",
       "    </tr>\n",
       "  </thead>\n",
       "  <tbody>\n",
       "    <tr>\n",
       "      <th>0</th>\n",
       "      <td>2024-09-16 00:00:00</td>\n",
       "      <td>2024.0</td>\n",
       "      <td>Unprovoked</td>\n",
       "      <td>Morocco</td>\n",
       "      <td>Southern Morocco</td>\n",
       "      <td>West of Dakhla</td>\n",
       "      <td>Swimming - jumped off yacht</td>\n",
       "      <td>German Tourist</td>\n",
       "      <td>F</td>\n",
       "      <td>30</td>\n",
       "      <td>...</td>\n",
       "      <td>NaN</td>\n",
       "      <td>NaN</td>\n",
       "      <td>NaN</td>\n",
       "      <td>NaN</td>\n",
       "      <td>NaN</td>\n",
       "      <td>NaN</td>\n",
       "      <td>NaN</td>\n",
       "      <td>NaN</td>\n",
       "      <td>0</td>\n",
       "      <td>Country_ok</td>\n",
       "    </tr>\n",
       "    <tr>\n",
       "      <th>1</th>\n",
       "      <td>2024-08-26 00:00:00</td>\n",
       "      <td>2024.0</td>\n",
       "      <td>Unprovoked</td>\n",
       "      <td>Jamaica</td>\n",
       "      <td>Montego Bay</td>\n",
       "      <td>Falmouth</td>\n",
       "      <td>Spearfishing</td>\n",
       "      <td>Jahmari Reid</td>\n",
       "      <td>M</td>\n",
       "      <td>16</td>\n",
       "      <td>...</td>\n",
       "      <td>NaN</td>\n",
       "      <td>NaN</td>\n",
       "      <td>NaN</td>\n",
       "      <td>NaN</td>\n",
       "      <td>NaN</td>\n",
       "      <td>NaN</td>\n",
       "      <td>NaN</td>\n",
       "      <td>NaN</td>\n",
       "      <td>1</td>\n",
       "      <td>Country_ok</td>\n",
       "    </tr>\n",
       "    <tr>\n",
       "      <th>2</th>\n",
       "      <td>2024-08-06 00:00:00</td>\n",
       "      <td>2024.0</td>\n",
       "      <td>Unprovoked</td>\n",
       "      <td>Belize</td>\n",
       "      <td>Gulf of Honduras</td>\n",
       "      <td>Central America</td>\n",
       "      <td>Swimming - Diving</td>\n",
       "      <td>Annabelle Carlson</td>\n",
       "      <td>F</td>\n",
       "      <td>15</td>\n",
       "      <td>...</td>\n",
       "      <td>NaN</td>\n",
       "      <td>NaN</td>\n",
       "      <td>NaN</td>\n",
       "      <td>NaN</td>\n",
       "      <td>NaN</td>\n",
       "      <td>NaN</td>\n",
       "      <td>NaN</td>\n",
       "      <td>NaN</td>\n",
       "      <td>2</td>\n",
       "      <td>Country_ok</td>\n",
       "    </tr>\n",
       "    <tr>\n",
       "      <th>3</th>\n",
       "      <td>2024-07-23 00:00:00</td>\n",
       "      <td>2024.0</td>\n",
       "      <td>Unprovoked</td>\n",
       "      <td>Australia</td>\n",
       "      <td>NSW</td>\n",
       "      <td>North Shore Beach, Port Macquarie</td>\n",
       "      <td>Surfing</td>\n",
       "      <td>Kai McKenzie</td>\n",
       "      <td>M</td>\n",
       "      <td>23</td>\n",
       "      <td>...</td>\n",
       "      <td>NaN</td>\n",
       "      <td>NaN</td>\n",
       "      <td>NaN</td>\n",
       "      <td>NaN</td>\n",
       "      <td>NaN</td>\n",
       "      <td>NaN</td>\n",
       "      <td>NaN</td>\n",
       "      <td>NaN</td>\n",
       "      <td>3</td>\n",
       "      <td>Country_ok</td>\n",
       "    </tr>\n",
       "    <tr>\n",
       "      <th>4</th>\n",
       "      <td>2024-07-18 00:00:00</td>\n",
       "      <td>2024.0</td>\n",
       "      <td>Unprovoked</td>\n",
       "      <td>Australia</td>\n",
       "      <td>Western Australia</td>\n",
       "      <td>Trigg beach Sterling</td>\n",
       "      <td>Surfing</td>\n",
       "      <td>Ryan Lowther</td>\n",
       "      <td>M</td>\n",
       "      <td>41</td>\n",
       "      <td>...</td>\n",
       "      <td>NaN</td>\n",
       "      <td>NaN</td>\n",
       "      <td>NaN</td>\n",
       "      <td>NaN</td>\n",
       "      <td>NaN</td>\n",
       "      <td>NaN</td>\n",
       "      <td>NaN</td>\n",
       "      <td>NaN</td>\n",
       "      <td>4</td>\n",
       "      <td>Country_ok</td>\n",
       "    </tr>\n",
       "  </tbody>\n",
       "</table>\n",
       "<p>5 rows × 25 columns</p>\n",
       "</div>"
      ],
      "text/plain": [
       "                  Date    Year        Type    Country              State  \\\n",
       "0  2024-09-16 00:00:00  2024.0  Unprovoked    Morocco   Southern Morocco   \n",
       "1  2024-08-26 00:00:00  2024.0  Unprovoked    Jamaica        Montego Bay   \n",
       "2  2024-08-06 00:00:00  2024.0  Unprovoked     Belize   Gulf of Honduras   \n",
       "3  2024-07-23 00:00:00  2024.0  Unprovoked  Australia                NSW   \n",
       "4  2024-07-18 00:00:00  2024.0  Unprovoked  Australia  Western Australia   \n",
       "\n",
       "                            Location                     Activity  \\\n",
       "0                     West of Dakhla  Swimming - jumped off yacht   \n",
       "1                           Falmouth                 Spearfishing   \n",
       "2                    Central America           Swimming - Diving    \n",
       "3  North Shore Beach, Port Macquarie                      Surfing   \n",
       "4               Trigg beach Sterling                      Surfing   \n",
       "\n",
       "                Name Sex Age  ...  pdf href formula href Case Number  \\\n",
       "0     German Tourist   F  30  ...  NaN          NaN  NaN         NaN   \n",
       "1       Jahmari Reid   M  16  ...  NaN          NaN  NaN         NaN   \n",
       "2  Annabelle Carlson   F  15  ...  NaN          NaN  NaN         NaN   \n",
       "3       Kai McKenzie   M  23  ...  NaN          NaN  NaN         NaN   \n",
       "4       Ryan Lowther   M  41  ...  NaN          NaN  NaN         NaN   \n",
       "\n",
       "  Case Number.1 original order Unnamed: 21 Unnamed: 22 id Country_Comment  \n",
       "0           NaN            NaN         NaN         NaN  0      Country_ok  \n",
       "1           NaN            NaN         NaN         NaN  1      Country_ok  \n",
       "2           NaN            NaN         NaN         NaN  2      Country_ok  \n",
       "3           NaN            NaN         NaN         NaN  3      Country_ok  \n",
       "4           NaN            NaN         NaN         NaN  4      Country_ok  \n",
       "\n",
       "[5 rows x 25 columns]"
      ]
     },
     "execution_count": 95,
     "metadata": {},
     "output_type": "execute_result"
    }
   ],
   "source": [
    "df_country[\"Country\"] = df_country[\"Country\"].str.title()\n",
    "df_country.head()"
   ]
  },
  {
   "cell_type": "code",
   "execution_count": 96,
   "id": "de111941",
   "metadata": {},
   "outputs": [
    {
     "ename": "NameError",
     "evalue": "name 'df_sharks' is not defined",
     "output_type": "error",
     "traceback": [
      "\u001b[1;31m---------------------------------------------------------------------------\u001b[0m",
      "\u001b[1;31mNameError\u001b[0m                                 Traceback (most recent call last)",
      "Cell \u001b[1;32mIn[96], line 1\u001b[0m\n\u001b[1;32m----> 1\u001b[0m df_sharks\u001b[38;5;241m.\u001b[39mto_csv(\u001b[38;5;124mr\u001b[39m\u001b[38;5;124m\"\u001b[39m\u001b[38;5;124mC:\u001b[39m\u001b[38;5;124m\\\u001b[39m\u001b[38;5;124mUsers\u001b[39m\u001b[38;5;124m\\\u001b[39m\u001b[38;5;124mxavie\u001b[39m\u001b[38;5;124m\\\u001b[39m\u001b[38;5;124mOneDrive\u001b[39m\u001b[38;5;124m\\\u001b[39m\u001b[38;5;124mDocumentos\u001b[39m\u001b[38;5;124m\\\u001b[39m\u001b[38;5;124mIronhack\u001b[39m\u001b[38;5;124m\\\u001b[39m\u001b[38;5;124mWeek 2\u001b[39m\u001b[38;5;124m\\\u001b[39m\u001b[38;5;124mQuest\u001b[39m\u001b[38;5;124m\\\u001b[39m\u001b[38;5;124mclean_country.csv\u001b[39m\u001b[38;5;124m\"\u001b[39m, index\u001b[38;5;241m=\u001b[39m\u001b[38;5;28;01mFalse\u001b[39;00m)\n",
      "\u001b[1;31mNameError\u001b[0m: name 'df_sharks' is not defined"
     ]
    }
   ],
   "source": [
    "df_sharks.to_csv(r\"C:\\Users\\xavie\\OneDrive\\Documentos\\Ironhack\\Week 2\\Quest\\clean_country.csv\", index=False)"
   ]
  },
  {
   "cell_type": "markdown",
   "id": "662ec4b0",
   "metadata": {},
   "source": [
    "# Coordinates API"
   ]
  },
  {
   "cell_type": "code",
   "execution_count": 19,
   "id": "678e69c7",
   "metadata": {},
   "outputs": [
    {
     "data": {
      "text/html": [
       "<div>\n",
       "<style scoped>\n",
       "    .dataframe tbody tr th:only-of-type {\n",
       "        vertical-align: middle;\n",
       "    }\n",
       "\n",
       "    .dataframe tbody tr th {\n",
       "        vertical-align: top;\n",
       "    }\n",
       "\n",
       "    .dataframe thead th {\n",
       "        text-align: right;\n",
       "    }\n",
       "</style>\n",
       "<table border=\"1\" class=\"dataframe\">\n",
       "  <thead>\n",
       "    <tr style=\"text-align: right;\">\n",
       "      <th></th>\n",
       "      <th>Country</th>\n",
       "      <th>Count</th>\n",
       "    </tr>\n",
       "  </thead>\n",
       "  <tbody>\n",
       "    <tr>\n",
       "      <th>0</th>\n",
       "      <td>USA</td>\n",
       "      <td>2550</td>\n",
       "    </tr>\n",
       "    <tr>\n",
       "      <th>1</th>\n",
       "      <td>AUSTRALIA</td>\n",
       "      <td>1485</td>\n",
       "    </tr>\n",
       "    <tr>\n",
       "      <th>2</th>\n",
       "      <td>SOUTH AFRICA</td>\n",
       "      <td>598</td>\n",
       "    </tr>\n",
       "    <tr>\n",
       "      <th>3</th>\n",
       "      <td>NEW ZEALAND</td>\n",
       "      <td>145</td>\n",
       "    </tr>\n",
       "    <tr>\n",
       "      <th>4</th>\n",
       "      <td>BAHAMAS</td>\n",
       "      <td>137</td>\n",
       "    </tr>\n",
       "    <tr>\n",
       "      <th>...</th>\n",
       "      <td>...</td>\n",
       "      <td>...</td>\n",
       "    </tr>\n",
       "    <tr>\n",
       "      <th>185</th>\n",
       "      <td>ADMIRALTY ISLANDS</td>\n",
       "      <td>1</td>\n",
       "    </tr>\n",
       "    <tr>\n",
       "      <th>186</th>\n",
       "      <td>FEDERATED STATES OF MICRONESIA</td>\n",
       "      <td>1</td>\n",
       "    </tr>\n",
       "    <tr>\n",
       "      <th>187</th>\n",
       "      <td>BRITISH ISLES</td>\n",
       "      <td>1</td>\n",
       "    </tr>\n",
       "    <tr>\n",
       "      <th>188</th>\n",
       "      <td>WESTERN SAMOA</td>\n",
       "      <td>1</td>\n",
       "    </tr>\n",
       "    <tr>\n",
       "      <th>189</th>\n",
       "      <td>KOREA</td>\n",
       "      <td>1</td>\n",
       "    </tr>\n",
       "  </tbody>\n",
       "</table>\n",
       "<p>190 rows × 2 columns</p>\n",
       "</div>"
      ],
      "text/plain": [
       "                            Country  Count\n",
       "0                               USA   2550\n",
       "1                         AUSTRALIA   1485\n",
       "2                      SOUTH AFRICA    598\n",
       "3                       NEW ZEALAND    145\n",
       "4                           BAHAMAS    137\n",
       "..                              ...    ...\n",
       "185               ADMIRALTY ISLANDS      1\n",
       "186  FEDERATED STATES OF MICRONESIA      1\n",
       "187                   BRITISH ISLES      1\n",
       "188                   WESTERN SAMOA      1\n",
       "189                           KOREA      1\n",
       "\n",
       "[190 rows x 2 columns]"
      ]
     },
     "execution_count": 19,
     "metadata": {},
     "output_type": "execute_result"
    }
   ],
   "source": [
    "# Create a new df with only the countries, unique values\n",
    "\n",
    "country_counts_coo = df_country['Country'].value_counts().reset_index()\n",
    "country_counts_coo.columns = ['Country', 'Count']\n",
    "\n",
    "country_counts_coo"
   ]
  },
  {
   "cell_type": "code",
   "execution_count": 21,
   "id": "a1d3e13a",
   "metadata": {},
   "outputs": [],
   "source": [
    "# importing geopy library and Nominatim class\n",
    "from geopy.geocoders import Nominatim\n",
    "\n",
    "def capital_coordinates_lat_api(country):\n",
    "    try:\n",
    "        coordinates = Nominatim(user_agent=\"Geopy Library\").geocode(country)\n",
    "        return coordinates.latitude\n",
    "    except:\n",
    "        return None\n",
    "\n",
    "def capital_coordinates_lng_api(country):\n",
    "    try:\n",
    "        coordinates = Nominatim(user_agent=\"Geopy Library\").geocode(country)\n",
    "        return coordinates.longitude\n",
    "    except:\n",
    "        return None\n",
    "\n",
    "\n",
    "\n",
    "country_counts_coo[\"coo_lat\"] = country_counts_coo[\"Country\"].apply(capital_coordinates_lat_api)\n",
    "country_counts_coo[\"coo_lng\"] = country_counts_coo[\"Country\"].apply(capital_coordinates_lng_api)\n",
    "\n"
   ]
  },
  {
   "cell_type": "code",
   "execution_count": 63,
   "id": "3b26103d",
   "metadata": {},
   "outputs": [
    {
     "data": {
      "text/html": [
       "<div>\n",
       "<style scoped>\n",
       "    .dataframe tbody tr th:only-of-type {\n",
       "        vertical-align: middle;\n",
       "    }\n",
       "\n",
       "    .dataframe tbody tr th {\n",
       "        vertical-align: top;\n",
       "    }\n",
       "\n",
       "    .dataframe thead th {\n",
       "        text-align: right;\n",
       "    }\n",
       "</style>\n",
       "<table border=\"1\" class=\"dataframe\">\n",
       "  <thead>\n",
       "    <tr style=\"text-align: right;\">\n",
       "      <th></th>\n",
       "      <th>Country</th>\n",
       "      <th>Count</th>\n",
       "      <th>coo_lat</th>\n",
       "      <th>coo_lng</th>\n",
       "      <th>Color</th>\n",
       "    </tr>\n",
       "  </thead>\n",
       "  <tbody>\n",
       "    <tr>\n",
       "      <th>0</th>\n",
       "      <td>USA</td>\n",
       "      <td>2550</td>\n",
       "      <td>39.783730</td>\n",
       "      <td>-100.445882</td>\n",
       "      <td>red</td>\n",
       "    </tr>\n",
       "    <tr>\n",
       "      <th>1</th>\n",
       "      <td>AUSTRALIA</td>\n",
       "      <td>1485</td>\n",
       "      <td>-24.776109</td>\n",
       "      <td>134.755000</td>\n",
       "      <td>red</td>\n",
       "    </tr>\n",
       "    <tr>\n",
       "      <th>2</th>\n",
       "      <td>SOUTH AFRICA</td>\n",
       "      <td>598</td>\n",
       "      <td>-28.816624</td>\n",
       "      <td>24.991639</td>\n",
       "      <td>red</td>\n",
       "    </tr>\n",
       "    <tr>\n",
       "      <th>3</th>\n",
       "      <td>NEW ZEALAND</td>\n",
       "      <td>145</td>\n",
       "      <td>-41.500083</td>\n",
       "      <td>172.834408</td>\n",
       "      <td>red</td>\n",
       "    </tr>\n",
       "    <tr>\n",
       "      <th>4</th>\n",
       "      <td>BAHAMAS</td>\n",
       "      <td>137</td>\n",
       "      <td>24.773655</td>\n",
       "      <td>-78.000055</td>\n",
       "      <td>red</td>\n",
       "    </tr>\n",
       "    <tr>\n",
       "      <th>...</th>\n",
       "      <td>...</td>\n",
       "      <td>...</td>\n",
       "      <td>...</td>\n",
       "      <td>...</td>\n",
       "      <td>...</td>\n",
       "    </tr>\n",
       "    <tr>\n",
       "      <th>185</th>\n",
       "      <td>ADMIRALTY ISLANDS</td>\n",
       "      <td>1</td>\n",
       "      <td>-2.103264</td>\n",
       "      <td>146.932545</td>\n",
       "      <td>blue</td>\n",
       "    </tr>\n",
       "    <tr>\n",
       "      <th>186</th>\n",
       "      <td>FEDERATED STATES OF MICRONESIA</td>\n",
       "      <td>1</td>\n",
       "      <td>8.606235</td>\n",
       "      <td>151.832744</td>\n",
       "      <td>blue</td>\n",
       "    </tr>\n",
       "    <tr>\n",
       "      <th>187</th>\n",
       "      <td>BRITISH ISLES</td>\n",
       "      <td>1</td>\n",
       "      <td>54.060000</td>\n",
       "      <td>-4.800000</td>\n",
       "      <td>blue</td>\n",
       "    </tr>\n",
       "    <tr>\n",
       "      <th>188</th>\n",
       "      <td>WESTERN SAMOA</td>\n",
       "      <td>1</td>\n",
       "      <td>-13.769390</td>\n",
       "      <td>-172.120050</td>\n",
       "      <td>blue</td>\n",
       "    </tr>\n",
       "    <tr>\n",
       "      <th>189</th>\n",
       "      <td>KOREA</td>\n",
       "      <td>1</td>\n",
       "      <td>37.952849</td>\n",
       "      <td>126.733117</td>\n",
       "      <td>blue</td>\n",
       "    </tr>\n",
       "  </tbody>\n",
       "</table>\n",
       "<p>190 rows × 5 columns</p>\n",
       "</div>"
      ],
      "text/plain": [
       "                            Country  Count    coo_lat     coo_lng Color\n",
       "0                               USA   2550  39.783730 -100.445882   red\n",
       "1                         AUSTRALIA   1485 -24.776109  134.755000   red\n",
       "2                      SOUTH AFRICA    598 -28.816624   24.991639   red\n",
       "3                       NEW ZEALAND    145 -41.500083  172.834408   red\n",
       "4                           BAHAMAS    137  24.773655  -78.000055   red\n",
       "..                              ...    ...        ...         ...   ...\n",
       "185               ADMIRALTY ISLANDS      1  -2.103264  146.932545  blue\n",
       "186  FEDERATED STATES OF MICRONESIA      1   8.606235  151.832744  blue\n",
       "187                   BRITISH ISLES      1  54.060000   -4.800000  blue\n",
       "188                   WESTERN SAMOA      1 -13.769390 -172.120050  blue\n",
       "189                           KOREA      1  37.952849  126.733117  blue\n",
       "\n",
       "[190 rows x 5 columns]"
      ]
     },
     "execution_count": 63,
     "metadata": {},
     "output_type": "execute_result"
    }
   ],
   "source": [
    "country_counts_coo"
   ]
  },
  {
   "cell_type": "code",
   "execution_count": 89,
   "id": "f59352ae",
   "metadata": {},
   "outputs": [
    {
     "data": {
      "application/vnd.plotly.v1+json": {
       "config": {
        "plotlyServerURL": "https://plot.ly"
       },
       "data": [
        {
         "geo": "geo",
         "hovertemplate": "<b>%{hovertext}</b><br><br>Color=Top 5<br>Count=%{marker.size}<br>coo_lat=%{lat}<br>coo_lng=%{lon}<extra></extra>",
         "hovertext": [
          "USA",
          "AUSTRALIA",
          "SOUTH AFRICA",
          "NEW ZEALAND",
          "BAHAMAS"
         ],
         "lat": [
          39.7837304,
          -24.7761086,
          -28.8166236,
          -41.5000831,
          24.7736546
         ],
         "legendgroup": "Top 5",
         "lon": [
          -100.445882,
          134.755,
          24.991639,
          172.8344077,
          -78.0000547
         ],
         "marker": {
          "color": "#ed472b",
          "size": [
           2550,
           1485,
           598,
           145,
           137
          ],
          "sizemin": 4,
          "sizemode": "area",
          "sizeref": 6.375,
          "symbol": "circle"
         },
         "mode": "markers",
         "name": "Top 5",
         "showlegend": true,
         "type": "scattergeo"
        },
        {
         "geo": "geo",
         "hovertemplate": "<b>%{hovertext}</b><br><br>Color=Other<br>Count=%{marker.size}<br>coo_lat=%{lat}<br>coo_lng=%{lon}<extra></extra>",
         "hovertext": [
          "PAPUA NEW GUINEA",
          "BRAZIL",
          "MEXICO",
          "ITALY",
          "FIJI",
          "NEW CALEDONIA",
          "PHILIPPINES",
          "REUNION",
          "EGYPT",
          "CUBA",
          "MOZAMBIQUE",
          "SPAIN",
          "INDIA",
          "FRENCH POLYNESIA",
          "CROATIA",
          "JAPAN",
          "PANAMA",
          "JAMAICA",
          "SOLOMON ISLANDS",
          "IRAN",
          "ENGLAND",
          "GREECE",
          "INDONESIA",
          "HONG KONG",
          "PACIFIC OCEAN",
          "TONGA",
          "COSTA RICA",
          "ATLANTIC OCEAN",
          "BERMUDA",
          "VIETNAM",
          "VANUATU",
          "SRI LANKA",
          "CANADA",
          "MARSHALL ISLANDS",
          "IRAQ",
          "FRANCE",
          "THAILAND",
          "SOUTH ATLANTIC OCEAN",
          "TURKEY",
          "ECUADOR",
          "UNITED KINGDOM",
          "VENEZUELA",
          "SENEGAL",
          "SEYCHELLES",
          "MAURITIUS",
          "KENYA",
          "SAMOA",
          "COLUMBIA",
          "NEW GUINEA",
          "SIERRA LEONE",
          "YEMEN",
          "TAIWAN",
          "CHINA",
          "SOUTH KOREA",
          "CARIBBEAN SEA",
          "CHILE",
          "TANZANIA",
          "ISRAEL",
          "MADAGASCAR",
          "BELIZE",
          "SCOTLAND",
          "DOMINICAN REPUBLIC",
          "NORTH PACIFIC OCEAN",
          "NICARAGUA",
          "INDIAN OCEAN",
          "SOMALIA",
          "BARBADOS",
          "KIRIBATI",
          "OKINAWA",
          "LIBYA",
          "SINGAPORE",
          "NEW BRITAIN",
          "NORTH ATLANTIC OCEAN",
          "MID ATLANTIC OCEAN",
          "PALAU",
          "TURKS AND CAICOS",
          "MALTA",
          "SAUDI ARABIA",
          "AZORES",
          "REUNION ISLAND",
          "MALAYSIA",
          "URUGUAY",
          "MALDIVE ISLANDS",
          "BURMA",
          "PERSIAN GULF",
          "PORTUGAL",
          "SUDAN",
          "MALDIVES",
          "GRENADA",
          "EL SALVADOR",
          "HONDURAS",
          "RUSSIA",
          "GUAM",
          "NIGERIA",
          "CEYLON",
          "TRINIDAD AND TOBAGO",
          "TUNISIA",
          "LIBERIA",
          "MONTENEGRO",
          "MARTINIQUE",
          "HAITI",
          "GUINEA",
          "CAPE VERDE",
          "AMERICAN SAMOA",
          "TOBAGO",
          "GUYANA",
          "MICRONESIA",
          "LEBANON",
          "WEST INDIES",
          "RED SEA",
          "COLOMBIA",
          "SOUTH PACIFIC OCEAN",
          "JOHNSTON ISLAND",
          "ARGENTINA",
          "ANTIGUA",
          "CRETE",
          "NORWAY",
          "ICELAND",
          "MEDITERRANEAN SEA",
          "PERU",
          "IRELAND",
          "NAMIBIA",
          "CENTRAL PACIFIC",
          "UNITED ARAB EMIRATES",
          "CAYMAN ISLANDS",
          "SOUTHWEST PACIFIC OCEAN",
          "KUWAIT",
          "SAN DOMINGO",
          "CYPRUS",
          "MONACO",
          "FALKLAND ISLANDS",
          "ALGERIA",
          "BAHREIN",
          "GEORGIA",
          "AFRICA",
          "TASMAN SEA",
          "GHANA",
          "TUVALU",
          "GREENLAND",
          "SYRIA",
          "ANDAMAN ISLANDS",
          "PARAGUAY",
          "EQUATORIAL GUINEA",
          "SWEDEN",
          "ROATAN",
          "COOK ISLANDS",
          "BRITISH NEW GUINEA",
          "DJIBOUTI",
          "OCEAN",
          "MOROCCO",
          "CURACAO",
          "PUERTO RICO",
          "GRAND CAYMAN",
          "GULF OF ADEN",
          "BRITISH VIRGIN ISLANDS",
          "NEVIS",
          "PALESTINIAN TERRITORIES",
          "DIEGO GARCIA",
          "ARUBA",
          "ANGOLA",
          "COMOROS",
          "ST MARTIN",
          "JORDAN",
          "BRITISH OVERSEAS TERRITORY",
          "CORAL SEA",
          "TRINIDAD",
          "NORTHERN ARABIAN SEA",
          "SOUTH CHINA SEA",
          "SLOVENIA",
          "MAYOTTE",
          "BAY OF BENGAL",
          "JAVA",
          "NORTHERN MARIANA ISLANDS",
          "NETHERLANDS ANTILLES",
          "GUATEMALA",
          "THE BALKANS",
          "GABON",
          "BANGLADESH",
          "NORTH SEA",
          "BRITISH WEST INDIES",
          "ADMIRALTY ISLANDS",
          "FEDERATED STATES OF MICRONESIA",
          "BRITISH ISLES",
          "WESTERN SAMOA",
          "KOREA"
         ],
         "lat": [
          -5.6816069,
          -10.3333333,
          19.4326296,
          42.6384261,
          -18.1239696,
          -20.63784275,
          12.7503486,
          -21.1309332,
          26.2540493,
          23.0131338,
          -19.302233,
          39.3260685,
          22.3511148,
          -17.0243749,
          45.3658443,
          36.5748441,
          8.559559,
          18.1850507,
          -8.7053941,
          32.6475314,
          52.5310214,
          38.9953683,
          -2.4833826,
          22.2793278,
          -0.703107,
          -19.9160819,
          10.2735633,
          13.581921,
          32.3040273,
          15.9266657,
          -16.5255069,
          7.5554942,
          61.0666922,
          8.230816999999998,
          33.0955793,
          46.603354,
          14.8971921,
          -45,
          38.9597594,
          -1.3397668,
          54.7023545,
          8.0018709,
          14.4750607,
          -4.6574977,
          -20.2759451,
          1.4419683,
          -13.7693895,
          4.099917,
          -5.5226203,
          8.6400349,
          16.3471243,
          23.5983227,
          35.0000663,
          36.638392,
          15.0000001,
          -31.7613365,
          -6.5247123,
          30.8124247,
          -18.9249604,
          17.1204943,
          56.7861112,
          19.0974031,
          30,
          12.6090157,
          -9.9999999,
          8.3676771,
          13.1500331,
          0.3448612,
          26.5707754,
          26.8234472,
          1.357107,
          -5.2245897,
          40,
          null,
          41.1810758,
          21.721746,
          35.8885993,
          25.6242618,
          37.80855645,
          -21.130737949999997,
          4.5693754,
          -32.8755548,
          4.6042214999999995,
          22.077700200000002,
          27.238125850000003,
          39.6621648,
          10.9,
          3.7203503,
          12.1360374,
          13.8000382,
          15.2572432,
          64.6863136,
          13.45011745,
          9.6000359,
          43.5335672,
          10.7466905,
          36.8002068,
          5.7499721,
          -29.6826112,
          14.6113732,
          19.1399952,
          10.7226226,
          16.0000552,
          -14.297124,
          11.24046155,
          4.8417097,
          8.6062347,
          40.375713,
          20,
          20.2965624,
          4.099917,
          -45,
          16.72889585,
          -34.9964963,
          17.10371515,
          41.4445334,
          64.5731537,
          64.9841821,
          35.0000035,
          -6.8699697,
          52.865196,
          -23.2335499,
          5.1384566,
          24.0002488,
          19.703182249999998,
          null,
          29.3796532,
          -26.877306,
          34.9174159,
          43.7323492,
          -51.9492937,
          28.0000272,
          26.1551249,
          32.3293809,
          11.5024338,
          -40,
          8.0300284,
          -8.6405212,
          35.9948477,
          34.8147886,
          12.61123865,
          -23.3165935,
          1.613172,
          59.6749712,
          16.34902105,
          -19.99697155,
          36.92825,
          11.8145966,
          39.977818,
          28.3347722,
          12.21351355,
          18.2247706,
          19.32984715,
          12.61473005,
          18.4024395,
          17.1508813,
          31.762963620549996,
          -7.338358449999999,
          12.5013629,
          -11.8775768,
          -12.2045176,
          18.0814066,
          10.6611675,
          null,
          -20,
          10.443024300000001,
          null,
          15.0000001,
          46.1199444,
          -12.825543,
          14.2202702,
          -7.327969400000001,
          15.1753648,
          12.1845,
          15.5855545,
          42.7220265,
          -0.8999695,
          -0.2864982,
          56.0026997,
          21.772793399999998,
          -2.10326445,
          8.6062347,
          54.06,
          -13.7693895,
          37.9528488
         ],
         "legendgroup": "Other",
         "lon": [
          144.2489081,
          -53.2,
          -99.1331785,
          12.674297,
          179.0122737,
          161.21176261225781,
          122.7312101,
          55.5265771,
          29.2675469,
          -80.8328748,
          34.9144977,
          -4.8379791,
          78.6677428,
          -144.6434898,
          15.6575209,
          139.2394179,
          -81.1308434,
          -77.3947693,
          159.1070693851845,
          54.5643516,
          -1.2649062,
          21.9877132,
          117.8902853,
          114.1628131,
          -120.9375,
          -175.202642,
          -84.0739102,
          -38.320312,
          -64.7563086,
          107.9650855,
          168.1069154,
          80.7137847,
          -107.991707,
          167.7953223704529,
          44.1749775,
          1.8883335,
          100.83273,
          -15,
          34.9249653,
          -79.3666965,
          -3.2765753,
          -66.1109318,
          -14.4529612,
          55.4540146,
          57.5703566,
          38.4313975,
          -172.12005,
          -72.9088133,
          142.08711943819077,
          -11.8400269,
          47.8915271,
          120.83537694479215,
          104.999955,
          127.6961188,
          -75.0000001,
          -71.3187697,
          35.7878438,
          34.8594762,
          46.4416422,
          -88.6859028,
          -4.1140518,
          -70.3028026,
          -170,
          -85.2936911,
          69.9999999,
          49.083416,
          -59.5250305,
          173.6641773,
          128.0255901,
          18.1236723,
          103.8194992,
          151.55696765353173,
          -40,
          null,
          9.3820424,
          -71.5527809,
          14.4476911,
          42.3528328,
          -25.473137391245295,
          55.536480112992315,
          102.2656823,
          -56.0201525,
          73.58052810117442,
          74.17086012016219,
          51.197231065873154,
          -8.1353519,
          6.5,
          73.2244152,
          -61.6904045,
          -88.9140683,
          -86.0755145,
          97.7453061,
          144.7577087765826,
          7.9999721,
          -94.6316462,
          -61.0840075,
          10.1857757,
          -9.3658524,
          -51.4687455,
          -60.9620777,
          -72.3570972,
          -10.7083587,
          -24.0083947,
          -170.7131481,
          -60.67200597857749,
          -58.6416891,
          151.832744331612,
          -76.4626118,
          -70,
          38.53431455782818,
          -72.9088133,
          -130,
          -169.53386420606287,
          -64.9672817,
          -61.790450458055844,
          -87.6313829,
          11.52803643954819,
          -18.1059013,
          19.9999957,
          -75.0458515,
          -7.9794599,
          17.3231107,
          -1.2809327,
          53.9994829,
          -79.9174627243246,
          null,
          47.9734174,
          -57.0745025,
          32.889902651331866,
          7.4276832,
          -59.5383657,
          2.9999825,
          50.5344606,
          -83.1137366,
          17.7578122,
          160,
          -1.0800271,
          179.1582918181797,
          -94.1796014,
          38.42317811509885,
          92.83165406414926,
          -58.1693445,
          10.5170357,
          14.5208584,
          -86.49775125625627,
          -157.78587140620786,
          -76.0090294,
          42.8453061,
          -74.3319287,
          -10.371337908392647,
          -69.04089204044595,
          -66.4858295,
          -81.17122162349,
          47.50633783193664,
          -64.5661642,
          -62.5852896007,
          34.9384953773143,
          72.47181546315355,
          -69.9618475,
          17.5691241,
          44.2832964,
          -63.0467131,
          122.5909592,
          null,
          155,
          -61.26130538878063,
          null,
          114.9999999,
          14.8153333,
          45.148490830203045,
          86.74284543238046,
          109.6139109880134,
          145.7379338,
          -68.6607922625,
          -90.345759,
          20.1058306,
          11.6899699,
          36.0514231,
          2.8144672799047834,
          -72.21726673274397,
          146.93254478025523,
          151.832744331612,
          -4.8,
          -172.12005,
          126.73311710879327
         ],
         "marker": {
          "color": "#636efa",
          "size": [
           136,
           122,
           106,
           72,
           70,
           65,
           64,
           60,
           52,
           49,
           46,
           46,
           41,
           38,
           36,
           36,
           32,
           31,
           31,
           29,
           25,
           24,
           24,
           24,
           19,
           18,
           18,
           17,
           16,
           15,
           14,
           14,
           14,
           13,
           13,
           13,
           12,
           12,
           12,
           11,
           11,
           11,
           11,
           10,
           10,
           10,
           10,
           10,
           10,
           9,
           9,
           9,
           9,
           8,
           8,
           8,
           8,
           8,
           8,
           8,
           8,
           7,
           7,
           7,
           7,
           6,
           6,
           6,
           6,
           6,
           6,
           6,
           5,
           5,
           5,
           5,
           5,
           5,
           5,
           5,
           5,
           4,
           4,
           4,
           4,
           4,
           4,
           4,
           4,
           4,
           4,
           4,
           4,
           4,
           3,
           3,
           3,
           3,
           3,
           3,
           3,
           3,
           3,
           3,
           3,
           3,
           3,
           3,
           2,
           2,
           2,
           2,
           2,
           2,
           2,
           2,
           2,
           2,
           2,
           2,
           2,
           2,
           2,
           2,
           2,
           2,
           1,
           1,
           1,
           1,
           1,
           1,
           1,
           1,
           1,
           1,
           1,
           1,
           1,
           1,
           1,
           1,
           1,
           1,
           1,
           1,
           1,
           1,
           1,
           1,
           1,
           1,
           1,
           1,
           1,
           1,
           1,
           1,
           1,
           1,
           1,
           1,
           1,
           1,
           1,
           1,
           1,
           1,
           1,
           1,
           1,
           1,
           1,
           1,
           1,
           1,
           1,
           1,
           1,
           1,
           1,
           1,
           1,
           1,
           1
          ],
          "sizemin": 4,
          "sizemode": "area",
          "sizeref": 6.375,
          "symbol": "circle"
         },
         "mode": "markers",
         "name": "Other",
         "showlegend": true,
         "type": "scattergeo"
        }
       ],
       "layout": {
        "geo": {
         "center": {},
         "domain": {
          "x": [
           0,
           1
          ],
          "y": [
           0,
           1
          ]
         }
        },
        "height": 500,
        "legend": {
         "itemsizing": "constant",
         "title": {
          "text": "Color"
         },
         "tracegroupgap": 0
        },
        "margin": {
         "t": 60
        },
        "template": {
         "data": {
          "bar": [
           {
            "error_x": {
             "color": "#2a3f5f"
            },
            "error_y": {
             "color": "#2a3f5f"
            },
            "marker": {
             "line": {
              "color": "#E5ECF6",
              "width": 0.5
             },
             "pattern": {
              "fillmode": "overlay",
              "size": 10,
              "solidity": 0.2
             }
            },
            "type": "bar"
           }
          ],
          "barpolar": [
           {
            "marker": {
             "line": {
              "color": "#E5ECF6",
              "width": 0.5
             },
             "pattern": {
              "fillmode": "overlay",
              "size": 10,
              "solidity": 0.2
             }
            },
            "type": "barpolar"
           }
          ],
          "carpet": [
           {
            "aaxis": {
             "endlinecolor": "#2a3f5f",
             "gridcolor": "white",
             "linecolor": "white",
             "minorgridcolor": "white",
             "startlinecolor": "#2a3f5f"
            },
            "baxis": {
             "endlinecolor": "#2a3f5f",
             "gridcolor": "white",
             "linecolor": "white",
             "minorgridcolor": "white",
             "startlinecolor": "#2a3f5f"
            },
            "type": "carpet"
           }
          ],
          "choropleth": [
           {
            "colorbar": {
             "outlinewidth": 0,
             "ticks": ""
            },
            "type": "choropleth"
           }
          ],
          "contour": [
           {
            "colorbar": {
             "outlinewidth": 0,
             "ticks": ""
            },
            "colorscale": [
             [
              0,
              "#0d0887"
             ],
             [
              0.1111111111111111,
              "#46039f"
             ],
             [
              0.2222222222222222,
              "#7201a8"
             ],
             [
              0.3333333333333333,
              "#9c179e"
             ],
             [
              0.4444444444444444,
              "#bd3786"
             ],
             [
              0.5555555555555556,
              "#d8576b"
             ],
             [
              0.6666666666666666,
              "#ed7953"
             ],
             [
              0.7777777777777778,
              "#fb9f3a"
             ],
             [
              0.8888888888888888,
              "#fdca26"
             ],
             [
              1,
              "#f0f921"
             ]
            ],
            "type": "contour"
           }
          ],
          "contourcarpet": [
           {
            "colorbar": {
             "outlinewidth": 0,
             "ticks": ""
            },
            "type": "contourcarpet"
           }
          ],
          "heatmap": [
           {
            "colorbar": {
             "outlinewidth": 0,
             "ticks": ""
            },
            "colorscale": [
             [
              0,
              "#0d0887"
             ],
             [
              0.1111111111111111,
              "#46039f"
             ],
             [
              0.2222222222222222,
              "#7201a8"
             ],
             [
              0.3333333333333333,
              "#9c179e"
             ],
             [
              0.4444444444444444,
              "#bd3786"
             ],
             [
              0.5555555555555556,
              "#d8576b"
             ],
             [
              0.6666666666666666,
              "#ed7953"
             ],
             [
              0.7777777777777778,
              "#fb9f3a"
             ],
             [
              0.8888888888888888,
              "#fdca26"
             ],
             [
              1,
              "#f0f921"
             ]
            ],
            "type": "heatmap"
           }
          ],
          "heatmapgl": [
           {
            "colorbar": {
             "outlinewidth": 0,
             "ticks": ""
            },
            "colorscale": [
             [
              0,
              "#0d0887"
             ],
             [
              0.1111111111111111,
              "#46039f"
             ],
             [
              0.2222222222222222,
              "#7201a8"
             ],
             [
              0.3333333333333333,
              "#9c179e"
             ],
             [
              0.4444444444444444,
              "#bd3786"
             ],
             [
              0.5555555555555556,
              "#d8576b"
             ],
             [
              0.6666666666666666,
              "#ed7953"
             ],
             [
              0.7777777777777778,
              "#fb9f3a"
             ],
             [
              0.8888888888888888,
              "#fdca26"
             ],
             [
              1,
              "#f0f921"
             ]
            ],
            "type": "heatmapgl"
           }
          ],
          "histogram": [
           {
            "marker": {
             "pattern": {
              "fillmode": "overlay",
              "size": 10,
              "solidity": 0.2
             }
            },
            "type": "histogram"
           }
          ],
          "histogram2d": [
           {
            "colorbar": {
             "outlinewidth": 0,
             "ticks": ""
            },
            "colorscale": [
             [
              0,
              "#0d0887"
             ],
             [
              0.1111111111111111,
              "#46039f"
             ],
             [
              0.2222222222222222,
              "#7201a8"
             ],
             [
              0.3333333333333333,
              "#9c179e"
             ],
             [
              0.4444444444444444,
              "#bd3786"
             ],
             [
              0.5555555555555556,
              "#d8576b"
             ],
             [
              0.6666666666666666,
              "#ed7953"
             ],
             [
              0.7777777777777778,
              "#fb9f3a"
             ],
             [
              0.8888888888888888,
              "#fdca26"
             ],
             [
              1,
              "#f0f921"
             ]
            ],
            "type": "histogram2d"
           }
          ],
          "histogram2dcontour": [
           {
            "colorbar": {
             "outlinewidth": 0,
             "ticks": ""
            },
            "colorscale": [
             [
              0,
              "#0d0887"
             ],
             [
              0.1111111111111111,
              "#46039f"
             ],
             [
              0.2222222222222222,
              "#7201a8"
             ],
             [
              0.3333333333333333,
              "#9c179e"
             ],
             [
              0.4444444444444444,
              "#bd3786"
             ],
             [
              0.5555555555555556,
              "#d8576b"
             ],
             [
              0.6666666666666666,
              "#ed7953"
             ],
             [
              0.7777777777777778,
              "#fb9f3a"
             ],
             [
              0.8888888888888888,
              "#fdca26"
             ],
             [
              1,
              "#f0f921"
             ]
            ],
            "type": "histogram2dcontour"
           }
          ],
          "mesh3d": [
           {
            "colorbar": {
             "outlinewidth": 0,
             "ticks": ""
            },
            "type": "mesh3d"
           }
          ],
          "parcoords": [
           {
            "line": {
             "colorbar": {
              "outlinewidth": 0,
              "ticks": ""
             }
            },
            "type": "parcoords"
           }
          ],
          "pie": [
           {
            "automargin": true,
            "type": "pie"
           }
          ],
          "scatter": [
           {
            "fillpattern": {
             "fillmode": "overlay",
             "size": 10,
             "solidity": 0.2
            },
            "type": "scatter"
           }
          ],
          "scatter3d": [
           {
            "line": {
             "colorbar": {
              "outlinewidth": 0,
              "ticks": ""
             }
            },
            "marker": {
             "colorbar": {
              "outlinewidth": 0,
              "ticks": ""
             }
            },
            "type": "scatter3d"
           }
          ],
          "scattercarpet": [
           {
            "marker": {
             "colorbar": {
              "outlinewidth": 0,
              "ticks": ""
             }
            },
            "type": "scattercarpet"
           }
          ],
          "scattergeo": [
           {
            "marker": {
             "colorbar": {
              "outlinewidth": 0,
              "ticks": ""
             }
            },
            "type": "scattergeo"
           }
          ],
          "scattergl": [
           {
            "marker": {
             "colorbar": {
              "outlinewidth": 0,
              "ticks": ""
             }
            },
            "type": "scattergl"
           }
          ],
          "scattermapbox": [
           {
            "marker": {
             "colorbar": {
              "outlinewidth": 0,
              "ticks": ""
             }
            },
            "type": "scattermapbox"
           }
          ],
          "scatterpolar": [
           {
            "marker": {
             "colorbar": {
              "outlinewidth": 0,
              "ticks": ""
             }
            },
            "type": "scatterpolar"
           }
          ],
          "scatterpolargl": [
           {
            "marker": {
             "colorbar": {
              "outlinewidth": 0,
              "ticks": ""
             }
            },
            "type": "scatterpolargl"
           }
          ],
          "scatterternary": [
           {
            "marker": {
             "colorbar": {
              "outlinewidth": 0,
              "ticks": ""
             }
            },
            "type": "scatterternary"
           }
          ],
          "surface": [
           {
            "colorbar": {
             "outlinewidth": 0,
             "ticks": ""
            },
            "colorscale": [
             [
              0,
              "#0d0887"
             ],
             [
              0.1111111111111111,
              "#46039f"
             ],
             [
              0.2222222222222222,
              "#7201a8"
             ],
             [
              0.3333333333333333,
              "#9c179e"
             ],
             [
              0.4444444444444444,
              "#bd3786"
             ],
             [
              0.5555555555555556,
              "#d8576b"
             ],
             [
              0.6666666666666666,
              "#ed7953"
             ],
             [
              0.7777777777777778,
              "#fb9f3a"
             ],
             [
              0.8888888888888888,
              "#fdca26"
             ],
             [
              1,
              "#f0f921"
             ]
            ],
            "type": "surface"
           }
          ],
          "table": [
           {
            "cells": {
             "fill": {
              "color": "#EBF0F8"
             },
             "line": {
              "color": "white"
             }
            },
            "header": {
             "fill": {
              "color": "#C8D4E3"
             },
             "line": {
              "color": "white"
             }
            },
            "type": "table"
           }
          ]
         },
         "layout": {
          "annotationdefaults": {
           "arrowcolor": "#2a3f5f",
           "arrowhead": 0,
           "arrowwidth": 1
          },
          "autotypenumbers": "strict",
          "coloraxis": {
           "colorbar": {
            "outlinewidth": 0,
            "ticks": ""
           }
          },
          "colorscale": {
           "diverging": [
            [
             0,
             "#8e0152"
            ],
            [
             0.1,
             "#c51b7d"
            ],
            [
             0.2,
             "#de77ae"
            ],
            [
             0.3,
             "#f1b6da"
            ],
            [
             0.4,
             "#fde0ef"
            ],
            [
             0.5,
             "#f7f7f7"
            ],
            [
             0.6,
             "#e6f5d0"
            ],
            [
             0.7,
             "#b8e186"
            ],
            [
             0.8,
             "#7fbc41"
            ],
            [
             0.9,
             "#4d9221"
            ],
            [
             1,
             "#276419"
            ]
           ],
           "sequential": [
            [
             0,
             "#0d0887"
            ],
            [
             0.1111111111111111,
             "#46039f"
            ],
            [
             0.2222222222222222,
             "#7201a8"
            ],
            [
             0.3333333333333333,
             "#9c179e"
            ],
            [
             0.4444444444444444,
             "#bd3786"
            ],
            [
             0.5555555555555556,
             "#d8576b"
            ],
            [
             0.6666666666666666,
             "#ed7953"
            ],
            [
             0.7777777777777778,
             "#fb9f3a"
            ],
            [
             0.8888888888888888,
             "#fdca26"
            ],
            [
             1,
             "#f0f921"
            ]
           ],
           "sequentialminus": [
            [
             0,
             "#0d0887"
            ],
            [
             0.1111111111111111,
             "#46039f"
            ],
            [
             0.2222222222222222,
             "#7201a8"
            ],
            [
             0.3333333333333333,
             "#9c179e"
            ],
            [
             0.4444444444444444,
             "#bd3786"
            ],
            [
             0.5555555555555556,
             "#d8576b"
            ],
            [
             0.6666666666666666,
             "#ed7953"
            ],
            [
             0.7777777777777778,
             "#fb9f3a"
            ],
            [
             0.8888888888888888,
             "#fdca26"
            ],
            [
             1,
             "#f0f921"
            ]
           ]
          },
          "colorway": [
           "#636efa",
           "#EF553B",
           "#00cc96",
           "#ab63fa",
           "#FFA15A",
           "#19d3f3",
           "#FF6692",
           "#B6E880",
           "#FF97FF",
           "#FECB52"
          ],
          "font": {
           "color": "#2a3f5f"
          },
          "geo": {
           "bgcolor": "white",
           "lakecolor": "white",
           "landcolor": "#E5ECF6",
           "showlakes": true,
           "showland": true,
           "subunitcolor": "white"
          },
          "hoverlabel": {
           "align": "left"
          },
          "hovermode": "closest",
          "mapbox": {
           "style": "light"
          },
          "paper_bgcolor": "white",
          "plot_bgcolor": "#E5ECF6",
          "polar": {
           "angularaxis": {
            "gridcolor": "white",
            "linecolor": "white",
            "ticks": ""
           },
           "bgcolor": "#E5ECF6",
           "radialaxis": {
            "gridcolor": "white",
            "linecolor": "white",
            "ticks": ""
           }
          },
          "scene": {
           "xaxis": {
            "backgroundcolor": "#E5ECF6",
            "gridcolor": "white",
            "gridwidth": 2,
            "linecolor": "white",
            "showbackground": true,
            "ticks": "",
            "zerolinecolor": "white"
           },
           "yaxis": {
            "backgroundcolor": "#E5ECF6",
            "gridcolor": "white",
            "gridwidth": 2,
            "linecolor": "white",
            "showbackground": true,
            "ticks": "",
            "zerolinecolor": "white"
           },
           "zaxis": {
            "backgroundcolor": "#E5ECF6",
            "gridcolor": "white",
            "gridwidth": 2,
            "linecolor": "white",
            "showbackground": true,
            "ticks": "",
            "zerolinecolor": "white"
           }
          },
          "shapedefaults": {
           "line": {
            "color": "#2a3f5f"
           }
          },
          "ternary": {
           "aaxis": {
            "gridcolor": "white",
            "linecolor": "white",
            "ticks": ""
           },
           "baxis": {
            "gridcolor": "white",
            "linecolor": "white",
            "ticks": ""
           },
           "bgcolor": "#E5ECF6",
           "caxis": {
            "gridcolor": "white",
            "linecolor": "white",
            "ticks": ""
           }
          },
          "title": {
           "x": 0.05
          },
          "xaxis": {
           "automargin": true,
           "gridcolor": "white",
           "linecolor": "white",
           "ticks": "",
           "title": {
            "standoff": 15
           },
           "zerolinecolor": "white",
           "zerolinewidth": 2
          },
          "yaxis": {
           "automargin": true,
           "gridcolor": "white",
           "linecolor": "white",
           "ticks": "",
           "title": {
            "standoff": 15
           },
           "zerolinecolor": "white",
           "zerolinewidth": 2
          }
         }
        },
        "width": 1000
       }
      }
     },
     "metadata": {},
     "output_type": "display_data"
    }
   ],
   "source": [
    "# Create a world map with the incidents by coordinates, size by count of instances\n",
    "import plotly.express as px\n",
    "\n",
    "# Determine the top countries\n",
    "top_countries = country_counts_coo.nlargest(5, 'Count')['Country'].tolist()\n",
    "\n",
    "# Create a new column for colors\n",
    "country_counts_coo['Color'] = country_counts_coo['Country'].apply(\n",
    "    lambda x: 'Top 5' if x in top_countries else \"Other\"  # Change 'blue' to any color you prefer for others\n",
    ")\n",
    "\n",
    "fig = px.scatter_geo(country_counts_coo,\n",
    "                    lat=country_counts_coo.coo_lat,\n",
    "                    lon=country_counts_coo.coo_lng,\n",
    "                    size = \"Count\",\n",
    "                    size_max=20,\n",
    "                    hover_name=\"Country\",\n",
    "                    color=\"Color\",\n",
    "                    color_discrete_map={'Top 5': '#ed472b', 'Other': '#636efa'},\n",
    "                    width=1000,\n",
    "                    height=500)\n",
    "\n",
    "fig.update_traces(marker=dict(sizemin=4))\n",
    "\n",
    "\n",
    "fig.show()"
   ]
  }
 ],
 "metadata": {
  "kernelspec": {
   "display_name": "base",
   "language": "python",
   "name": "python3"
  },
  "language_info": {
   "codemirror_mode": {
    "name": "ipython",
    "version": 3
   },
   "file_extension": ".py",
   "mimetype": "text/x-python",
   "name": "python",
   "nbconvert_exporter": "python",
   "pygments_lexer": "ipython3",
   "version": "3.12.4"
  }
 },
 "nbformat": 4,
 "nbformat_minor": 5
}
