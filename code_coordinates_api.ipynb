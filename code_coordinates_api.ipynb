{
 "cells": [
  {
   "cell_type": "markdown",
   "metadata": {},
   "source": [
    "# Coordinates API"
   ]
  },
  {
   "cell_type": "code",
   "execution_count": 13,
   "metadata": {},
   "outputs": [
    {
     "data": {
      "text/html": [
       "<div>\n",
       "<style scoped>\n",
       "    .dataframe tbody tr th:only-of-type {\n",
       "        vertical-align: middle;\n",
       "    }\n",
       "\n",
       "    .dataframe tbody tr th {\n",
       "        vertical-align: top;\n",
       "    }\n",
       "\n",
       "    .dataframe thead th {\n",
       "        text-align: right;\n",
       "    }\n",
       "</style>\n",
       "<table border=\"1\" class=\"dataframe\">\n",
       "  <thead>\n",
       "    <tr style=\"text-align: right;\">\n",
       "      <th></th>\n",
       "      <th>id</th>\n",
       "      <th>Country</th>\n",
       "      <th>Date_Comment</th>\n",
       "    </tr>\n",
       "  </thead>\n",
       "  <tbody>\n",
       "    <tr>\n",
       "      <th>0</th>\n",
       "      <td>0</td>\n",
       "      <td>Morocco</td>\n",
       "      <td>Check</td>\n",
       "    </tr>\n",
       "    <tr>\n",
       "      <th>1</th>\n",
       "      <td>1</td>\n",
       "      <td>Jamaica</td>\n",
       "      <td>Check</td>\n",
       "    </tr>\n",
       "    <tr>\n",
       "      <th>2</th>\n",
       "      <td>2</td>\n",
       "      <td>Belize</td>\n",
       "      <td>Check</td>\n",
       "    </tr>\n",
       "    <tr>\n",
       "      <th>3</th>\n",
       "      <td>3</td>\n",
       "      <td>Australia</td>\n",
       "      <td>Check</td>\n",
       "    </tr>\n",
       "    <tr>\n",
       "      <th>4</th>\n",
       "      <td>4</td>\n",
       "      <td>Australia</td>\n",
       "      <td>Check</td>\n",
       "    </tr>\n",
       "    <tr>\n",
       "      <th>...</th>\n",
       "      <td>...</td>\n",
       "      <td>...</td>\n",
       "      <td>...</td>\n",
       "    </tr>\n",
       "    <tr>\n",
       "      <th>6965</th>\n",
       "      <td>6965</td>\n",
       "      <td>Australia</td>\n",
       "      <td>Check</td>\n",
       "    </tr>\n",
       "    <tr>\n",
       "      <th>6966</th>\n",
       "      <td>6966</td>\n",
       "      <td>Australia</td>\n",
       "      <td>Check</td>\n",
       "    </tr>\n",
       "    <tr>\n",
       "      <th>6967</th>\n",
       "      <td>6967</td>\n",
       "      <td>Usa</td>\n",
       "      <td>Check</td>\n",
       "    </tr>\n",
       "    <tr>\n",
       "      <th>6968</th>\n",
       "      <td>6968</td>\n",
       "      <td>Panama</td>\n",
       "      <td>Check</td>\n",
       "    </tr>\n",
       "    <tr>\n",
       "      <th>6969</th>\n",
       "      <td>6969</td>\n",
       "      <td>Ceylon (Sri Lanka)</td>\n",
       "      <td>Check</td>\n",
       "    </tr>\n",
       "  </tbody>\n",
       "</table>\n",
       "<p>6970 rows × 3 columns</p>\n",
       "</div>"
      ],
      "text/plain": [
       "        id             Country Date_Comment\n",
       "0        0             Morocco        Check\n",
       "1        1             Jamaica        Check\n",
       "2        2              Belize        Check\n",
       "3        3           Australia        Check\n",
       "4        4           Australia        Check\n",
       "...    ...                 ...          ...\n",
       "6965  6965           Australia        Check\n",
       "6966  6966           Australia        Check\n",
       "6967  6967                 Usa        Check\n",
       "6968  6968              Panama        Check\n",
       "6969  6969  Ceylon (Sri Lanka)        Check\n",
       "\n",
       "[6970 rows x 3 columns]"
      ]
     },
     "execution_count": 13,
     "metadata": {},
     "output_type": "execute_result"
    }
   ],
   "source": [
    "import pandas as pd\n",
    "import numpy as np\n",
    "import re\n",
    "\n",
    "# Load data\n",
    "df_country = pd.read_csv(\"clean_country.csv\")\n",
    "df_country[\"Country\"] = df_country[\"Country\"].str.title()\n",
    "df_country\n"
   ]
  },
  {
   "cell_type": "code",
   "execution_count": 14,
   "metadata": {},
   "outputs": [
    {
     "data": {
      "text/html": [
       "<div>\n",
       "<style scoped>\n",
       "    .dataframe tbody tr th:only-of-type {\n",
       "        vertical-align: middle;\n",
       "    }\n",
       "\n",
       "    .dataframe tbody tr th {\n",
       "        vertical-align: top;\n",
       "    }\n",
       "\n",
       "    .dataframe thead th {\n",
       "        text-align: right;\n",
       "    }\n",
       "</style>\n",
       "<table border=\"1\" class=\"dataframe\">\n",
       "  <thead>\n",
       "    <tr style=\"text-align: right;\">\n",
       "      <th></th>\n",
       "      <th>Country</th>\n",
       "      <th>Count</th>\n",
       "    </tr>\n",
       "  </thead>\n",
       "  <tbody>\n",
       "    <tr>\n",
       "      <th>0</th>\n",
       "      <td>Usa</td>\n",
       "      <td>2550</td>\n",
       "    </tr>\n",
       "    <tr>\n",
       "      <th>1</th>\n",
       "      <td>Australia</td>\n",
       "      <td>1485</td>\n",
       "    </tr>\n",
       "    <tr>\n",
       "      <th>2</th>\n",
       "      <td>South Africa</td>\n",
       "      <td>598</td>\n",
       "    </tr>\n",
       "    <tr>\n",
       "      <th>3</th>\n",
       "      <td>New Zealand</td>\n",
       "      <td>145</td>\n",
       "    </tr>\n",
       "    <tr>\n",
       "      <th>4</th>\n",
       "      <td>Bahamas</td>\n",
       "      <td>137</td>\n",
       "    </tr>\n",
       "    <tr>\n",
       "      <th>...</th>\n",
       "      <td>...</td>\n",
       "      <td>...</td>\n",
       "    </tr>\n",
       "    <tr>\n",
       "      <th>213</th>\n",
       "      <td>Admiralty Islands</td>\n",
       "      <td>1</td>\n",
       "    </tr>\n",
       "    <tr>\n",
       "      <th>214</th>\n",
       "      <td>Federated States Of Micronesia</td>\n",
       "      <td>1</td>\n",
       "    </tr>\n",
       "    <tr>\n",
       "      <th>215</th>\n",
       "      <td>Red Sea</td>\n",
       "      <td>1</td>\n",
       "    </tr>\n",
       "    <tr>\n",
       "      <th>216</th>\n",
       "      <td>British Isles</td>\n",
       "      <td>1</td>\n",
       "    </tr>\n",
       "    <tr>\n",
       "      <th>217</th>\n",
       "      <td>Ceylon (Sri Lanka)</td>\n",
       "      <td>1</td>\n",
       "    </tr>\n",
       "  </tbody>\n",
       "</table>\n",
       "<p>218 rows × 2 columns</p>\n",
       "</div>"
      ],
      "text/plain": [
       "                            Country  Count\n",
       "0                               Usa   2550\n",
       "1                         Australia   1485\n",
       "2                      South Africa    598\n",
       "3                       New Zealand    145\n",
       "4                           Bahamas    137\n",
       "..                              ...    ...\n",
       "213               Admiralty Islands      1\n",
       "214  Federated States Of Micronesia      1\n",
       "215                         Red Sea      1\n",
       "216                   British Isles      1\n",
       "217              Ceylon (Sri Lanka)      1\n",
       "\n",
       "[218 rows x 2 columns]"
      ]
     },
     "execution_count": 14,
     "metadata": {},
     "output_type": "execute_result"
    }
   ],
   "source": [
    "# Create a new df with only the countries, unique values\n",
    "\n",
    "country_counts_coo = df_country['Country'].value_counts().reset_index()\n",
    "country_counts_coo.columns = ['Country', 'Count']\n",
    "\n",
    "country_counts_coo"
   ]
  },
  {
   "cell_type": "code",
   "execution_count": 15,
   "metadata": {},
   "outputs": [],
   "source": [
    "# importing geopy library and Nominatim class\n",
    "from geopy.geocoders import Nominatim\n",
    "\n",
    "def capital_coordinates_lat_api(country):\n",
    "    try:\n",
    "        coordinates = Nominatim(user_agent=\"Geopy Library\").geocode(country)\n",
    "        return coordinates.latitude\n",
    "    except:\n",
    "        return None\n",
    "\n",
    "def capital_coordinates_lng_api(country):\n",
    "    try:\n",
    "        coordinates = Nominatim(user_agent=\"Geopy Library\").geocode(country)\n",
    "        return coordinates.longitude\n",
    "    except:\n",
    "        return None\n",
    "\n",
    "\n",
    "\n",
    "country_counts_coo[\"coo_lat\"] = country_counts_coo[\"Country\"].apply(capital_coordinates_lat_api)\n",
    "country_counts_coo[\"coo_lng\"] = country_counts_coo[\"Country\"].apply(capital_coordinates_lng_api)\n",
    "\n"
   ]
  },
  {
   "cell_type": "code",
   "execution_count": 16,
   "metadata": {},
   "outputs": [
    {
     "data": {
      "text/html": [
       "<div>\n",
       "<style scoped>\n",
       "    .dataframe tbody tr th:only-of-type {\n",
       "        vertical-align: middle;\n",
       "    }\n",
       "\n",
       "    .dataframe tbody tr th {\n",
       "        vertical-align: top;\n",
       "    }\n",
       "\n",
       "    .dataframe thead th {\n",
       "        text-align: right;\n",
       "    }\n",
       "</style>\n",
       "<table border=\"1\" class=\"dataframe\">\n",
       "  <thead>\n",
       "    <tr style=\"text-align: right;\">\n",
       "      <th></th>\n",
       "      <th>Country</th>\n",
       "      <th>Count</th>\n",
       "      <th>coo_lat</th>\n",
       "      <th>coo_lng</th>\n",
       "    </tr>\n",
       "  </thead>\n",
       "  <tbody>\n",
       "    <tr>\n",
       "      <th>0</th>\n",
       "      <td>Usa</td>\n",
       "      <td>2550</td>\n",
       "      <td>39.783730</td>\n",
       "      <td>-100.445882</td>\n",
       "    </tr>\n",
       "    <tr>\n",
       "      <th>1</th>\n",
       "      <td>Australia</td>\n",
       "      <td>1485</td>\n",
       "      <td>-24.776109</td>\n",
       "      <td>134.755000</td>\n",
       "    </tr>\n",
       "    <tr>\n",
       "      <th>2</th>\n",
       "      <td>South Africa</td>\n",
       "      <td>598</td>\n",
       "      <td>-28.816624</td>\n",
       "      <td>24.991639</td>\n",
       "    </tr>\n",
       "    <tr>\n",
       "      <th>3</th>\n",
       "      <td>New Zealand</td>\n",
       "      <td>145</td>\n",
       "      <td>-41.500083</td>\n",
       "      <td>172.834408</td>\n",
       "    </tr>\n",
       "    <tr>\n",
       "      <th>4</th>\n",
       "      <td>Bahamas</td>\n",
       "      <td>137</td>\n",
       "      <td>24.773655</td>\n",
       "      <td>-78.000055</td>\n",
       "    </tr>\n",
       "    <tr>\n",
       "      <th>...</th>\n",
       "      <td>...</td>\n",
       "      <td>...</td>\n",
       "      <td>...</td>\n",
       "      <td>...</td>\n",
       "    </tr>\n",
       "    <tr>\n",
       "      <th>213</th>\n",
       "      <td>Admiralty Islands</td>\n",
       "      <td>1</td>\n",
       "      <td>-2.103264</td>\n",
       "      <td>146.932545</td>\n",
       "    </tr>\n",
       "    <tr>\n",
       "      <th>214</th>\n",
       "      <td>Federated States Of Micronesia</td>\n",
       "      <td>1</td>\n",
       "      <td>8.606235</td>\n",
       "      <td>151.832744</td>\n",
       "    </tr>\n",
       "    <tr>\n",
       "      <th>215</th>\n",
       "      <td>Red Sea</td>\n",
       "      <td>1</td>\n",
       "      <td>20.296562</td>\n",
       "      <td>38.534315</td>\n",
       "    </tr>\n",
       "    <tr>\n",
       "      <th>216</th>\n",
       "      <td>British Isles</td>\n",
       "      <td>1</td>\n",
       "      <td>54.060000</td>\n",
       "      <td>-4.800000</td>\n",
       "    </tr>\n",
       "    <tr>\n",
       "      <th>217</th>\n",
       "      <td>Ceylon (Sri Lanka)</td>\n",
       "      <td>1</td>\n",
       "      <td>7.877691</td>\n",
       "      <td>80.662439</td>\n",
       "    </tr>\n",
       "  </tbody>\n",
       "</table>\n",
       "<p>218 rows × 4 columns</p>\n",
       "</div>"
      ],
      "text/plain": [
       "                            Country  Count    coo_lat     coo_lng\n",
       "0                               Usa   2550  39.783730 -100.445882\n",
       "1                         Australia   1485 -24.776109  134.755000\n",
       "2                      South Africa    598 -28.816624   24.991639\n",
       "3                       New Zealand    145 -41.500083  172.834408\n",
       "4                           Bahamas    137  24.773655  -78.000055\n",
       "..                              ...    ...        ...         ...\n",
       "213               Admiralty Islands      1  -2.103264  146.932545\n",
       "214  Federated States Of Micronesia      1   8.606235  151.832744\n",
       "215                         Red Sea      1  20.296562   38.534315\n",
       "216                   British Isles      1  54.060000   -4.800000\n",
       "217              Ceylon (Sri Lanka)      1   7.877691   80.662439\n",
       "\n",
       "[218 rows x 4 columns]"
      ]
     },
     "execution_count": 16,
     "metadata": {},
     "output_type": "execute_result"
    }
   ],
   "source": [
    "country_counts_coo"
   ]
  },
  {
   "cell_type": "code",
   "execution_count": 19,
   "metadata": {},
   "outputs": [],
   "source": [
    "country_counts_coo.to_csv(r\"C:\\Users\\xavie\\OneDrive\\Documentos\\Ironhack\\Week 2\\Quest\\clean_country_w_coordinates.csv\", index=False)"
   ]
  },
  {
   "cell_type": "code",
   "execution_count": 20,
   "metadata": {},
   "outputs": [
    {
     "data": {
      "application/vnd.plotly.v1+json": {
       "config": {
        "plotlyServerURL": "https://plot.ly"
       },
       "data": [
        {
         "geo": "geo",
         "hovertemplate": "<b>%{hovertext}</b><br><br>Color=Top 5<br>Count=%{marker.size}<br>coo_lat=%{lat}<br>coo_lng=%{lon}<extra></extra>",
         "hovertext": [
          "Usa",
          "Australia",
          "South Africa",
          "New Zealand",
          "Bahamas"
         ],
         "lat": [
          39.7837304,
          -24.7761086,
          -28.8166236,
          -41.5000831,
          24.7736546
         ],
         "legendgroup": "Top 5",
         "lon": [
          -100.445882,
          134.755,
          24.991639,
          172.8344077,
          -78.0000547
         ],
         "marker": {
          "color": "#ed472b",
          "size": [
           2550,
           1485,
           598,
           145,
           137
          ],
          "sizemin": 4,
          "sizemode": "area",
          "sizeref": 6.375,
          "symbol": "circle"
         },
         "mode": "markers",
         "name": "Top 5",
         "showlegend": true,
         "type": "scattergeo"
        },
        {
         "geo": "geo",
         "hovertemplate": "<b>%{hovertext}</b><br><br>Color=Other<br>Count=%{marker.size}<br>coo_lat=%{lat}<br>coo_lng=%{lon}<extra></extra>",
         "hovertext": [
          "Papua New Guinea",
          "Brazil",
          "Mexico",
          "Italy",
          "Fiji",
          "New Caledonia",
          "Philippines",
          "Reunion",
          "Cuba",
          "Egypt",
          "Spain",
          "Mozambique",
          "India",
          "French Polynesia",
          "Japan",
          "Croatia",
          "Panama",
          "Jamaica",
          "Solomon Islands",
          "Iran",
          "England",
          "Greece",
          "Hong Kong",
          "Indonesia",
          "Costa Rica",
          "Pacific Ocean",
          "Atlantic Ocean",
          "Bermuda",
          "Vietnam",
          "Tonga",
          "Vanuatu",
          "Canada",
          "Sri Lanka",
          "Marshall Islands",
          "France",
          "Iraq",
          "South Atlantic Ocean",
          "Turkey",
          "Thailand",
          "Senegal",
          "Venezuela",
          "United Kingdom",
          "Ecuador",
          "Kenya",
          "Seychelles",
          "New Guinea",
          "Samoa",
          "Mauritius",
          "Columbia",
          "Sierra Leone",
          "China",
          "Taiwan",
          "Belize",
          "South Korea",
          "Scotland",
          "Caribbean Sea",
          "Chile",
          "Madagascar",
          "Israel",
          "Tanzania",
          "Dominican Republic",
          "Yemen ",
          "Indian Ocean",
          "North Pacific Ocean",
          "Somalia",
          "Okinawa",
          "Kiribati",
          "Libya",
          "Singapore",
          "New Britain",
          "Barbados",
          "Nicaragua",
          "Palau",
          "Turks & Caicos",
          "Mid Atlantic Ocean",
          "Azores",
          "Malta",
          "Reunion Island",
          "Malaysia",
          "Saudi Arabia",
          "Maldives",
          "Russia",
          "El Salvador",
          "Burma",
          "Grenada",
          "Uruguay",
          "North Atlantic Ocean",
          "Sudan",
          "Persian Gulf",
          "Honduras",
          "Portugal",
          "Nigeria",
          "Guam",
          "Maldive Islands",
          "Micronesia",
          "Tunisia",
          "Montenegro",
          "Lebanon",
          "Guinea",
          "Martinique",
          "Tobago",
          "Cape Verde",
          "Ceylon",
          " Tonga",
          "Haiti",
          "American Samoa",
          "Guyana",
          "Liberia",
          "Trinidad & Tobago",
          "South Pacific Ocean",
          "West Indies",
          "Colombia",
          "Egypt ",
          "Pacific Ocean ",
          "Argentina",
          "Johnston Island",
          "Crete",
          "United Arab Emirates (Uae)",
          "Turks And Caicos",
          "Mediterranean Sea",
          "Antigua",
          "Southwest Pacific Ocean",
          "Central Pacific",
          "Norway",
          "Iceland",
          "Yemen",
          "Peru",
          "St Helena, British Overseas Territory",
          "Cayman Islands",
          "United Arab Emirates",
          "Ireland",
          "Namibia",
          "Monaco",
          "Asia?",
          "Cyprus",
          "Italy / Croatia",
          "Falkland Islands",
          "San Domingo",
          "Curacao",
          "Red Sea?",
          "Kuwait",
          "Georgia",
          "Paraguay",
          "Sweden",
          "Mid-Pacifc Ocean",
          "Tasman Sea",
          "Coast Of Africa",
          "Algeria",
          "Ghana",
          "Africa",
          "Cook Islands",
          "Greenland",
          "Equatorial Guinea / Cameroon",
          "Roatan",
          "British New Guinea",
          "Andaman Islands",
          "Indian Ocean?",
          "Tuvalu",
          "Syria",
          "Ocean",
          "Between Portugal & India",
          "Djibouti",
          "Bahrein",
          "Korea",
          "Slovenia",
          "Morocco",
          "Bay Of Bengal",
          "Diego Garcia",
          "Northern Arabian Sea",
          "Egypt / Israel",
          "Mexico ",
          "Grand Cayman",
          "St. Maartin",
          "Gulf Of Aden",
          "British Virgin Islands",
          "Nevis",
          "Palestinian Territories",
          "St. Martin",
          "South China Sea",
          "Puerto Rico",
          "Aruba",
          "Comoros",
          "St Martin",
          "St Kitts / Nevis",
          "Jordan",
          "British Overseas Territory",
          "Coral Sea",
          "Trinidad",
          "Angola",
          "Bangladesh",
          "Solomon Islands / Vanuatu",
          "Mayotte",
          " Philippines",
          "Java",
          "Iran / Iraq",
          "Northern Mariana Islands",
          "Netherlands Antilles",
          "Guatemala",
          "Sudan?",
          "The Balkans",
          "North Atlantic Ocean ",
          "Gabon",
          "Western Samoa",
          "Andaman / Nicobar Islandas",
          "Nicaragua ",
          "North Sea",
          "Red Sea / Indian Ocean",
          "British West Indies",
          "Admiralty Islands",
          "Federated States Of Micronesia",
          "Red Sea",
          "British Isles",
          "Ceylon (Sri Lanka)"
         ],
         "lat": [
          -5.6816069,
          -10.3333333,
          19.4326296,
          42.6384261,
          -18.1239696,
          -20.63784275,
          12.7503486,
          -21.1309332,
          23.0131338,
          26.2540493,
          39.3260685,
          -19.302233,
          22.3511148,
          -17.0243749,
          36.5748441,
          45.3658443,
          8.559559,
          18.1850507,
          -8.7053941,
          32.6475314,
          52.5310214,
          38.9953683,
          22.350627,
          -2.4833826,
          10.2735633,
          -0.703107,
          13.581921,
          32.3040273,
          15.9266657,
          -19.9160819,
          -16.5255069,
          61.0666922,
          7.5554942,
          8.230816999999998,
          46.603354,
          33.0955793,
          -45,
          38.9597594,
          14.8971921,
          14.4750607,
          8.0018709,
          54.7023545,
          -1.3397668,
          1.4419683,
          -4.6574977,
          -5.5226203,
          -13.7693895,
          -20.2759451,
          4.099917,
          8.6400349,
          35.0000663,
          23.5983227,
          17.1204943,
          36.638392,
          56.7861112,
          15.0000001,
          -31.7613365,
          -18.9249604,
          30.8124247,
          -6.5247123,
          19.0974031,
          16.3471243,
          -9.9999999,
          30,
          8.3676771,
          26.5707754,
          0.3448612,
          26.8234472,
          1.357107,
          -5.2245897,
          13.1500331,
          12.6090157,
          41.1810758,
          21.721746,
          null,
          37.80855645,
          35.8885993,
          -21.130737949999997,
          4.5693754,
          25.6242618,
          3.7203503,
          64.6863136,
          13.8000382,
          14.7037865,
          12.1360374,
          -32.8755548,
          40,
          10.9,
          27.238125850000003,
          15.2572432,
          39.6621648,
          9.6000359,
          13.45011745,
          4.6042214999999995,
          8.6062347,
          36.8002068,
          -29.6826112,
          40.375713,
          10.7226226,
          14.6113732,
          11.24046155,
          16.0000552,
          43.5335672,
          -19.9160819,
          19.1399952,
          -14.297124,
          4.8417097,
          5.7499721,
          10.7466905,
          -45,
          20,
          4.099917,
          26.2540493,
          -0.703107,
          -34.9964963,
          16.72889585,
          41.4445334,
          24.0002488,
          21.721746,
          35.0000035,
          17.10371515,
          null,
          5.1384566,
          64.5731537,
          64.9841821,
          16.3471243,
          -6.8699697,
          null,
          19.703182249999998,
          24.0002488,
          52.865196,
          -23.2335499,
          43.7323492,
          51.2086975,
          34.9174159,
          41.9025595,
          -51.9492937,
          -20.9514414,
          12.21351355,
          20.2965624,
          29.3796532,
          32.3293809,
          -23.3165935,
          59.6749712,
          null,
          -40,
          -4.0653133,
          28.0000272,
          8.0300284,
          11.5024338,
          -19.99697155,
          35.9948477,
          3.7538507,
          16.3167373,
          36.92825,
          12.61123865,
          -9.9999999,
          -8.6405212,
          34.8147886,
          39.977818,
          null,
          11.8145966,
          26.1551249,
          37.9528488,
          46.1199444,
          28.3347722,
          14.2202702,
          -7.338358449999999,
          null,
          32.08943705,
          19.4326296,
          19.32984715,
          18.0423736,
          12.61473005,
          18.4024395,
          17.1508813,
          31.762963620549996,
          18.0814066,
          15.0000001,
          18.2247706,
          12.5013629,
          -12.2045176,
          18.0814066,
          17.250512,
          10.6611675,
          null,
          -20,
          10.443024300000001,
          -11.8775768,
          -0.2864982,
          null,
          -12.825543,
          12.7503486,
          -7.327969400000001,
          33.3247059,
          15.1753648,
          12.1845,
          15.5855545,
          10.9,
          42.7220265,
          40,
          -0.8999695,
          -13.7693895,
          null,
          12.6090157,
          56.0026997,
          null,
          21.772793399999998,
          -2.10326445,
          8.6062347,
          20.2965624,
          54.06,
          7.877690749999999
         ],
         "legendgroup": "Other",
         "lon": [
          144.2489081,
          -53.2,
          -99.1331785,
          12.674297,
          179.0122737,
          161.21176261225781,
          122.7312101,
          55.5265771,
          -80.8328748,
          29.2675469,
          -4.8379791,
          34.9144977,
          78.6677428,
          -144.6434898,
          139.2394179,
          15.6575209,
          -81.1308434,
          -77.3947693,
          159.1070693851845,
          54.5643516,
          -1.2649062,
          21.9877132,
          114.1849161,
          117.8902853,
          -84.0739102,
          -120.9375,
          -38.320312,
          -64.7563086,
          107.9650855,
          -175.202642,
          168.1069154,
          -107.991707,
          80.7137847,
          167.7953223704529,
          1.8883335,
          44.1749775,
          -15,
          34.9249653,
          100.83273,
          -14.4529612,
          -66.1109318,
          -3.2765753,
          -79.3666965,
          38.4313975,
          55.4540146,
          142.08711943819077,
          -172.12005,
          57.5703566,
          -72.9088133,
          -11.8400269,
          104.999955,
          120.83537694479215,
          -88.6859028,
          127.6961188,
          -4.1140518,
          -75.0000001,
          -71.3187697,
          46.4416422,
          34.8594762,
          35.7878438,
          -70.3028026,
          47.8915271,
          69.9999999,
          -170,
          49.083416,
          128.0255901,
          173.6641773,
          18.1236723,
          103.8194992,
          151.55696765353173,
          -59.5250305,
          -85.2936911,
          9.3820424,
          -71.5527809,
          null,
          -25.473137391245295,
          14.4476911,
          55.536480112992315,
          102.2656823,
          42.3528328,
          73.2244152,
          97.7453061,
          -88.9140683,
          25.9224696,
          -61.6904045,
          -56.0201525,
          -40,
          6.5,
          51.197231065873154,
          -86.0755145,
          -8.1353519,
          7.9999721,
          144.7577087765826,
          73.58052810117442,
          151.832744331612,
          10.1857757,
          -51.4687455,
          -76.4626118,
          -10.7083587,
          -60.9620777,
          -60.67200597857749,
          -24.0083947,
          -94.6316462,
          -175.202642,
          -72.3570972,
          -170.7131481,
          -58.6416891,
          -9.3658524,
          -61.0840075,
          -130,
          -70,
          -72.9088133,
          29.2675469,
          -120.9375,
          -64.9672817,
          -169.53386420606287,
          -87.6313829,
          53.9994829,
          -71.5527809,
          19.9999957,
          -61.790450458055844,
          null,
          -1.2809327,
          11.52803643954819,
          -18.1059013,
          47.8915271,
          -75.0458515,
          null,
          -79.9174627243246,
          53.9994829,
          -7.9794599,
          17.3231107,
          7.4276832,
          89.2343748,
          32.889902651331866,
          12.4599327,
          -59.5383657,
          -41.340874,
          -69.04089204044595,
          38.53431455782818,
          47.9734174,
          -83.1137366,
          -58.1693445,
          14.5208584,
          null,
          160,
          39.6711639,
          2.9999825,
          -1.0800271,
          17.7578122,
          -157.78587140620786,
          -94.1796014,
          8.7813204,
          -86.5374787,
          -76.0090294,
          92.83165406414926,
          69.9999999,
          179.1582918181797,
          38.42317811509885,
          -74.3319287,
          null,
          42.8453061,
          50.5344606,
          126.73311710879327,
          14.8153333,
          -10.371337908392647,
          86.74284543238046,
          72.47181546315355,
          null,
          34.781904203917556,
          -99.1331785,
          -81.17122162349,
          -63.0549948,
          47.50633783193664,
          -64.5661642,
          -62.5852896007,
          34.9384953773143,
          -63.0467131,
          114.9999999,
          -66.4858295,
          -69.9618475,
          44.2832964,
          -63.0467131,
          -62.6725973,
          122.5909592,
          null,
          155,
          -61.26130538878063,
          17.5691241,
          36.0514231,
          null,
          45.148490830203045,
          122.7312101,
          109.6139109880134,
          44.3887836,
          145.7379338,
          -68.6607922625,
          -90.345759,
          6.5,
          20.1058306,
          -40,
          11.6899699,
          -172.12005,
          null,
          -85.2936911,
          2.8144672799047834,
          null,
          -72.21726673274397,
          146.93254478025523,
          151.832744331612,
          38.53431455782818,
          -4.8,
          80.6624389751148
         ],
         "marker": {
          "color": "#636efa",
          "size": [
           136,
           122,
           105,
           72,
           70,
           65,
           63,
           60,
           49,
           49,
           46,
           46,
           41,
           38,
           36,
           35,
           32,
           31,
           30,
           29,
           25,
           24,
           24,
           24,
           18,
           17,
           17,
           16,
           15,
           15,
           14,
           14,
           14,
           13,
           13,
           12,
           12,
           12,
           12,
           11,
           11,
           11,
           11,
           10,
           10,
           10,
           10,
           10,
           10,
           9,
           9,
           9,
           8,
           8,
           8,
           8,
           8,
           8,
           8,
           8,
           7,
           7,
           7,
           7,
           6,
           6,
           6,
           6,
           6,
           6,
           6,
           6,
           5,
           5,
           5,
           5,
           5,
           5,
           5,
           5,
           4,
           4,
           4,
           4,
           4,
           4,
           4,
           4,
           4,
           4,
           4,
           4,
           4,
           4,
           3,
           3,
           3,
           3,
           3,
           3,
           3,
           3,
           3,
           3,
           3,
           3,
           3,
           3,
           3,
           2,
           2,
           2,
           2,
           2,
           2,
           2,
           2,
           2,
           2,
           2,
           2,
           2,
           2,
           2,
           2,
           2,
           2,
           2,
           2,
           2,
           2,
           2,
           1,
           1,
           1,
           1,
           1,
           1,
           1,
           1,
           1,
           1,
           1,
           1,
           1,
           1,
           1,
           1,
           1,
           1,
           1,
           1,
           1,
           1,
           1,
           1,
           1,
           1,
           1,
           1,
           1,
           1,
           1,
           1,
           1,
           1,
           1,
           1,
           1,
           1,
           1,
           1,
           1,
           1,
           1,
           1,
           1,
           1,
           1,
           1,
           1,
           1,
           1,
           1,
           1,
           1,
           1,
           1,
           1,
           1,
           1,
           1,
           1,
           1,
           1,
           1,
           1,
           1,
           1,
           1,
           1,
           1,
           1,
           1,
           1,
           1,
           1,
           1,
           1,
           1,
           1,
           1,
           1
          ],
          "sizemin": 4,
          "sizemode": "area",
          "sizeref": 6.375,
          "symbol": "circle"
         },
         "mode": "markers",
         "name": "Other",
         "showlegend": true,
         "type": "scattergeo"
        }
       ],
       "layout": {
        "geo": {
         "center": {},
         "domain": {
          "x": [
           0,
           1
          ],
          "y": [
           0,
           1
          ]
         }
        },
        "height": 500,
        "legend": {
         "itemsizing": "constant",
         "title": {
          "text": "Color"
         },
         "tracegroupgap": 0
        },
        "margin": {
         "t": 60
        },
        "template": {
         "data": {
          "bar": [
           {
            "error_x": {
             "color": "#2a3f5f"
            },
            "error_y": {
             "color": "#2a3f5f"
            },
            "marker": {
             "line": {
              "color": "#E5ECF6",
              "width": 0.5
             },
             "pattern": {
              "fillmode": "overlay",
              "size": 10,
              "solidity": 0.2
             }
            },
            "type": "bar"
           }
          ],
          "barpolar": [
           {
            "marker": {
             "line": {
              "color": "#E5ECF6",
              "width": 0.5
             },
             "pattern": {
              "fillmode": "overlay",
              "size": 10,
              "solidity": 0.2
             }
            },
            "type": "barpolar"
           }
          ],
          "carpet": [
           {
            "aaxis": {
             "endlinecolor": "#2a3f5f",
             "gridcolor": "white",
             "linecolor": "white",
             "minorgridcolor": "white",
             "startlinecolor": "#2a3f5f"
            },
            "baxis": {
             "endlinecolor": "#2a3f5f",
             "gridcolor": "white",
             "linecolor": "white",
             "minorgridcolor": "white",
             "startlinecolor": "#2a3f5f"
            },
            "type": "carpet"
           }
          ],
          "choropleth": [
           {
            "colorbar": {
             "outlinewidth": 0,
             "ticks": ""
            },
            "type": "choropleth"
           }
          ],
          "contour": [
           {
            "colorbar": {
             "outlinewidth": 0,
             "ticks": ""
            },
            "colorscale": [
             [
              0,
              "#0d0887"
             ],
             [
              0.1111111111111111,
              "#46039f"
             ],
             [
              0.2222222222222222,
              "#7201a8"
             ],
             [
              0.3333333333333333,
              "#9c179e"
             ],
             [
              0.4444444444444444,
              "#bd3786"
             ],
             [
              0.5555555555555556,
              "#d8576b"
             ],
             [
              0.6666666666666666,
              "#ed7953"
             ],
             [
              0.7777777777777778,
              "#fb9f3a"
             ],
             [
              0.8888888888888888,
              "#fdca26"
             ],
             [
              1,
              "#f0f921"
             ]
            ],
            "type": "contour"
           }
          ],
          "contourcarpet": [
           {
            "colorbar": {
             "outlinewidth": 0,
             "ticks": ""
            },
            "type": "contourcarpet"
           }
          ],
          "heatmap": [
           {
            "colorbar": {
             "outlinewidth": 0,
             "ticks": ""
            },
            "colorscale": [
             [
              0,
              "#0d0887"
             ],
             [
              0.1111111111111111,
              "#46039f"
             ],
             [
              0.2222222222222222,
              "#7201a8"
             ],
             [
              0.3333333333333333,
              "#9c179e"
             ],
             [
              0.4444444444444444,
              "#bd3786"
             ],
             [
              0.5555555555555556,
              "#d8576b"
             ],
             [
              0.6666666666666666,
              "#ed7953"
             ],
             [
              0.7777777777777778,
              "#fb9f3a"
             ],
             [
              0.8888888888888888,
              "#fdca26"
             ],
             [
              1,
              "#f0f921"
             ]
            ],
            "type": "heatmap"
           }
          ],
          "heatmapgl": [
           {
            "colorbar": {
             "outlinewidth": 0,
             "ticks": ""
            },
            "colorscale": [
             [
              0,
              "#0d0887"
             ],
             [
              0.1111111111111111,
              "#46039f"
             ],
             [
              0.2222222222222222,
              "#7201a8"
             ],
             [
              0.3333333333333333,
              "#9c179e"
             ],
             [
              0.4444444444444444,
              "#bd3786"
             ],
             [
              0.5555555555555556,
              "#d8576b"
             ],
             [
              0.6666666666666666,
              "#ed7953"
             ],
             [
              0.7777777777777778,
              "#fb9f3a"
             ],
             [
              0.8888888888888888,
              "#fdca26"
             ],
             [
              1,
              "#f0f921"
             ]
            ],
            "type": "heatmapgl"
           }
          ],
          "histogram": [
           {
            "marker": {
             "pattern": {
              "fillmode": "overlay",
              "size": 10,
              "solidity": 0.2
             }
            },
            "type": "histogram"
           }
          ],
          "histogram2d": [
           {
            "colorbar": {
             "outlinewidth": 0,
             "ticks": ""
            },
            "colorscale": [
             [
              0,
              "#0d0887"
             ],
             [
              0.1111111111111111,
              "#46039f"
             ],
             [
              0.2222222222222222,
              "#7201a8"
             ],
             [
              0.3333333333333333,
              "#9c179e"
             ],
             [
              0.4444444444444444,
              "#bd3786"
             ],
             [
              0.5555555555555556,
              "#d8576b"
             ],
             [
              0.6666666666666666,
              "#ed7953"
             ],
             [
              0.7777777777777778,
              "#fb9f3a"
             ],
             [
              0.8888888888888888,
              "#fdca26"
             ],
             [
              1,
              "#f0f921"
             ]
            ],
            "type": "histogram2d"
           }
          ],
          "histogram2dcontour": [
           {
            "colorbar": {
             "outlinewidth": 0,
             "ticks": ""
            },
            "colorscale": [
             [
              0,
              "#0d0887"
             ],
             [
              0.1111111111111111,
              "#46039f"
             ],
             [
              0.2222222222222222,
              "#7201a8"
             ],
             [
              0.3333333333333333,
              "#9c179e"
             ],
             [
              0.4444444444444444,
              "#bd3786"
             ],
             [
              0.5555555555555556,
              "#d8576b"
             ],
             [
              0.6666666666666666,
              "#ed7953"
             ],
             [
              0.7777777777777778,
              "#fb9f3a"
             ],
             [
              0.8888888888888888,
              "#fdca26"
             ],
             [
              1,
              "#f0f921"
             ]
            ],
            "type": "histogram2dcontour"
           }
          ],
          "mesh3d": [
           {
            "colorbar": {
             "outlinewidth": 0,
             "ticks": ""
            },
            "type": "mesh3d"
           }
          ],
          "parcoords": [
           {
            "line": {
             "colorbar": {
              "outlinewidth": 0,
              "ticks": ""
             }
            },
            "type": "parcoords"
           }
          ],
          "pie": [
           {
            "automargin": true,
            "type": "pie"
           }
          ],
          "scatter": [
           {
            "fillpattern": {
             "fillmode": "overlay",
             "size": 10,
             "solidity": 0.2
            },
            "type": "scatter"
           }
          ],
          "scatter3d": [
           {
            "line": {
             "colorbar": {
              "outlinewidth": 0,
              "ticks": ""
             }
            },
            "marker": {
             "colorbar": {
              "outlinewidth": 0,
              "ticks": ""
             }
            },
            "type": "scatter3d"
           }
          ],
          "scattercarpet": [
           {
            "marker": {
             "colorbar": {
              "outlinewidth": 0,
              "ticks": ""
             }
            },
            "type": "scattercarpet"
           }
          ],
          "scattergeo": [
           {
            "marker": {
             "colorbar": {
              "outlinewidth": 0,
              "ticks": ""
             }
            },
            "type": "scattergeo"
           }
          ],
          "scattergl": [
           {
            "marker": {
             "colorbar": {
              "outlinewidth": 0,
              "ticks": ""
             }
            },
            "type": "scattergl"
           }
          ],
          "scattermapbox": [
           {
            "marker": {
             "colorbar": {
              "outlinewidth": 0,
              "ticks": ""
             }
            },
            "type": "scattermapbox"
           }
          ],
          "scatterpolar": [
           {
            "marker": {
             "colorbar": {
              "outlinewidth": 0,
              "ticks": ""
             }
            },
            "type": "scatterpolar"
           }
          ],
          "scatterpolargl": [
           {
            "marker": {
             "colorbar": {
              "outlinewidth": 0,
              "ticks": ""
             }
            },
            "type": "scatterpolargl"
           }
          ],
          "scatterternary": [
           {
            "marker": {
             "colorbar": {
              "outlinewidth": 0,
              "ticks": ""
             }
            },
            "type": "scatterternary"
           }
          ],
          "surface": [
           {
            "colorbar": {
             "outlinewidth": 0,
             "ticks": ""
            },
            "colorscale": [
             [
              0,
              "#0d0887"
             ],
             [
              0.1111111111111111,
              "#46039f"
             ],
             [
              0.2222222222222222,
              "#7201a8"
             ],
             [
              0.3333333333333333,
              "#9c179e"
             ],
             [
              0.4444444444444444,
              "#bd3786"
             ],
             [
              0.5555555555555556,
              "#d8576b"
             ],
             [
              0.6666666666666666,
              "#ed7953"
             ],
             [
              0.7777777777777778,
              "#fb9f3a"
             ],
             [
              0.8888888888888888,
              "#fdca26"
             ],
             [
              1,
              "#f0f921"
             ]
            ],
            "type": "surface"
           }
          ],
          "table": [
           {
            "cells": {
             "fill": {
              "color": "#EBF0F8"
             },
             "line": {
              "color": "white"
             }
            },
            "header": {
             "fill": {
              "color": "#C8D4E3"
             },
             "line": {
              "color": "white"
             }
            },
            "type": "table"
           }
          ]
         },
         "layout": {
          "annotationdefaults": {
           "arrowcolor": "#2a3f5f",
           "arrowhead": 0,
           "arrowwidth": 1
          },
          "autotypenumbers": "strict",
          "coloraxis": {
           "colorbar": {
            "outlinewidth": 0,
            "ticks": ""
           }
          },
          "colorscale": {
           "diverging": [
            [
             0,
             "#8e0152"
            ],
            [
             0.1,
             "#c51b7d"
            ],
            [
             0.2,
             "#de77ae"
            ],
            [
             0.3,
             "#f1b6da"
            ],
            [
             0.4,
             "#fde0ef"
            ],
            [
             0.5,
             "#f7f7f7"
            ],
            [
             0.6,
             "#e6f5d0"
            ],
            [
             0.7,
             "#b8e186"
            ],
            [
             0.8,
             "#7fbc41"
            ],
            [
             0.9,
             "#4d9221"
            ],
            [
             1,
             "#276419"
            ]
           ],
           "sequential": [
            [
             0,
             "#0d0887"
            ],
            [
             0.1111111111111111,
             "#46039f"
            ],
            [
             0.2222222222222222,
             "#7201a8"
            ],
            [
             0.3333333333333333,
             "#9c179e"
            ],
            [
             0.4444444444444444,
             "#bd3786"
            ],
            [
             0.5555555555555556,
             "#d8576b"
            ],
            [
             0.6666666666666666,
             "#ed7953"
            ],
            [
             0.7777777777777778,
             "#fb9f3a"
            ],
            [
             0.8888888888888888,
             "#fdca26"
            ],
            [
             1,
             "#f0f921"
            ]
           ],
           "sequentialminus": [
            [
             0,
             "#0d0887"
            ],
            [
             0.1111111111111111,
             "#46039f"
            ],
            [
             0.2222222222222222,
             "#7201a8"
            ],
            [
             0.3333333333333333,
             "#9c179e"
            ],
            [
             0.4444444444444444,
             "#bd3786"
            ],
            [
             0.5555555555555556,
             "#d8576b"
            ],
            [
             0.6666666666666666,
             "#ed7953"
            ],
            [
             0.7777777777777778,
             "#fb9f3a"
            ],
            [
             0.8888888888888888,
             "#fdca26"
            ],
            [
             1,
             "#f0f921"
            ]
           ]
          },
          "colorway": [
           "#636efa",
           "#EF553B",
           "#00cc96",
           "#ab63fa",
           "#FFA15A",
           "#19d3f3",
           "#FF6692",
           "#B6E880",
           "#FF97FF",
           "#FECB52"
          ],
          "font": {
           "color": "#2a3f5f"
          },
          "geo": {
           "bgcolor": "white",
           "lakecolor": "white",
           "landcolor": "#E5ECF6",
           "showlakes": true,
           "showland": true,
           "subunitcolor": "white"
          },
          "hoverlabel": {
           "align": "left"
          },
          "hovermode": "closest",
          "mapbox": {
           "style": "light"
          },
          "paper_bgcolor": "white",
          "plot_bgcolor": "#E5ECF6",
          "polar": {
           "angularaxis": {
            "gridcolor": "white",
            "linecolor": "white",
            "ticks": ""
           },
           "bgcolor": "#E5ECF6",
           "radialaxis": {
            "gridcolor": "white",
            "linecolor": "white",
            "ticks": ""
           }
          },
          "scene": {
           "xaxis": {
            "backgroundcolor": "#E5ECF6",
            "gridcolor": "white",
            "gridwidth": 2,
            "linecolor": "white",
            "showbackground": true,
            "ticks": "",
            "zerolinecolor": "white"
           },
           "yaxis": {
            "backgroundcolor": "#E5ECF6",
            "gridcolor": "white",
            "gridwidth": 2,
            "linecolor": "white",
            "showbackground": true,
            "ticks": "",
            "zerolinecolor": "white"
           },
           "zaxis": {
            "backgroundcolor": "#E5ECF6",
            "gridcolor": "white",
            "gridwidth": 2,
            "linecolor": "white",
            "showbackground": true,
            "ticks": "",
            "zerolinecolor": "white"
           }
          },
          "shapedefaults": {
           "line": {
            "color": "#2a3f5f"
           }
          },
          "ternary": {
           "aaxis": {
            "gridcolor": "white",
            "linecolor": "white",
            "ticks": ""
           },
           "baxis": {
            "gridcolor": "white",
            "linecolor": "white",
            "ticks": ""
           },
           "bgcolor": "#E5ECF6",
           "caxis": {
            "gridcolor": "white",
            "linecolor": "white",
            "ticks": ""
           }
          },
          "title": {
           "x": 0.05
          },
          "xaxis": {
           "automargin": true,
           "gridcolor": "white",
           "linecolor": "white",
           "ticks": "",
           "title": {
            "standoff": 15
           },
           "zerolinecolor": "white",
           "zerolinewidth": 2
          },
          "yaxis": {
           "automargin": true,
           "gridcolor": "white",
           "linecolor": "white",
           "ticks": "",
           "title": {
            "standoff": 15
           },
           "zerolinecolor": "white",
           "zerolinewidth": 2
          }
         }
        },
        "width": 1000
       }
      }
     },
     "metadata": {},
     "output_type": "display_data"
    }
   ],
   "source": [
    "# Create a world map with the incidents by coordinates, size by count of instances\n",
    "import plotly.express as px\n",
    "\n",
    "# Determine the top countries\n",
    "top_countries = country_counts_coo.nlargest(5, 'Count')['Country'].tolist()\n",
    "\n",
    "# Create a new column for colors\n",
    "country_counts_coo['Color'] = country_counts_coo['Country'].apply(\n",
    "    lambda x: 'Top 5' if x in top_countries else \"Other\"  # Change 'blue' to any color you prefer for others\n",
    ")\n",
    "\n",
    "fig = px.scatter_geo(country_counts_coo,\n",
    "                    lat=country_counts_coo.coo_lat,\n",
    "                    lon=country_counts_coo.coo_lng,\n",
    "                    size = \"Count\",\n",
    "                    size_max=20,\n",
    "                    hover_name=\"Country\",\n",
    "                    color=\"Color\",\n",
    "                    color_discrete_map={'Top 5': '#ed472b', 'Other': '#636efa'},\n",
    "                    width=1000,\n",
    "                    height=500)\n",
    "\n",
    "fig.update_traces(marker=dict(sizemin=4))\n",
    "\n",
    "\n",
    "fig.show()"
   ]
  }
 ],
 "metadata": {
  "kernelspec": {
   "display_name": "base",
   "language": "python",
   "name": "python3"
  },
  "language_info": {
   "codemirror_mode": {
    "name": "ipython",
    "version": 3
   },
   "file_extension": ".py",
   "mimetype": "text/x-python",
   "name": "python",
   "nbconvert_exporter": "python",
   "pygments_lexer": "ipython3",
   "version": "3.12.4"
  }
 },
 "nbformat": 4,
 "nbformat_minor": 2
}
